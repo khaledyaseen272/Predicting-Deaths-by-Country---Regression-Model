{
 "cells": [
  {
   "cell_type": "markdown",
   "id": "8ed27557",
   "metadata": {},
   "source": [
    "## Predicting deaths in 2022 due Covid19 \n",
    "\n",
    "### The project's main target is to predict the deaths in 2022 by country before the vaccination and expect our life during the pandemic without the vaccine then compare it with the real world cases in 2022 after vaccination.\n"
   ]
  },
  {
   "cell_type": "code",
   "execution_count": 1,
   "id": "ebdab714",
   "metadata": {},
   "outputs": [],
   "source": [
    "import numpy as np\n",
    "import pandas as pd\n",
    "from time import time\n",
    "from IPython.display import display\n",
    "import matplotlib.pyplot as plt\n",
    "import seaborn as sns\n",
    "\n",
    "# Evaluation Metrics\n",
    "from sklearn.metrics import mean_squared_error as mse\n",
    "from sklearn.metrics import r2_score as rs\n",
    "from sklearn.metrics import mean_absolute_error as mae"
   ]
  },
  {
   "cell_type": "code",
   "execution_count": 2,
   "id": "de35797f",
   "metadata": {},
   "outputs": [
    {
     "data": {
      "text/html": [
       "<div>\n",
       "<style scoped>\n",
       "    .dataframe tbody tr th:only-of-type {\n",
       "        vertical-align: middle;\n",
       "    }\n",
       "\n",
       "    .dataframe tbody tr th {\n",
       "        vertical-align: top;\n",
       "    }\n",
       "\n",
       "    .dataframe thead th {\n",
       "        text-align: right;\n",
       "    }\n",
       "</style>\n",
       "<table border=\"1\" class=\"dataframe\">\n",
       "  <thead>\n",
       "    <tr style=\"text-align: right;\">\n",
       "      <th></th>\n",
       "      <th>Country</th>\n",
       "      <th>Total_Cases2020</th>\n",
       "      <th>Total_Cases2021</th>\n",
       "      <th>Total_deaths_2020</th>\n",
       "      <th>Population</th>\n",
       "      <th>%Infection_of_Total_Population</th>\n",
       "      <th>Averager_yearly_temperature</th>\n",
       "      <th>Airline_Passengers</th>\n",
       "      <th>population_density</th>\n",
       "      <th>median_age</th>\n",
       "      <th>aged_65_older%</th>\n",
       "      <th>aged_70_older%</th>\n",
       "      <th>hospital_beds_per_thousand</th>\n",
       "      <th>human_development_index</th>\n",
       "      <th>Tobacco use (% of adults)</th>\n",
       "      <th>Total_deaths_2021</th>\n",
       "    </tr>\n",
       "  </thead>\n",
       "  <tbody>\n",
       "    <tr>\n",
       "      <th>0</th>\n",
       "      <td>United States</td>\n",
       "      <td>20217056</td>\n",
       "      <td>54904270</td>\n",
       "      <td>350555</td>\n",
       "      <td>331501080</td>\n",
       "      <td>0.0610</td>\n",
       "      <td>10.00</td>\n",
       "      <td>369500000</td>\n",
       "      <td>35.61</td>\n",
       "      <td>38.3</td>\n",
       "      <td>0.15</td>\n",
       "      <td>0.10</td>\n",
       "      <td>2.77</td>\n",
       "      <td>0.93</td>\n",
       "      <td>0.230</td>\n",
       "      <td>475059</td>\n",
       "    </tr>\n",
       "    <tr>\n",
       "      <th>1</th>\n",
       "      <td>Brazil</td>\n",
       "      <td>7681032</td>\n",
       "      <td>22291839</td>\n",
       "      <td>195072</td>\n",
       "      <td>213196304</td>\n",
       "      <td>0.0360</td>\n",
       "      <td>25.93</td>\n",
       "      <td>45410000</td>\n",
       "      <td>25.04</td>\n",
       "      <td>33.5</td>\n",
       "      <td>0.09</td>\n",
       "      <td>0.05</td>\n",
       "      <td>2.20</td>\n",
       "      <td>0.77</td>\n",
       "      <td>0.128</td>\n",
       "      <td>424262</td>\n",
       "    </tr>\n",
       "    <tr>\n",
       "      <th>2</th>\n",
       "      <td>India</td>\n",
       "      <td>10286709</td>\n",
       "      <td>34861579</td>\n",
       "      <td>148994</td>\n",
       "      <td>1396387127</td>\n",
       "      <td>0.0074</td>\n",
       "      <td>24.80</td>\n",
       "      <td>68960000</td>\n",
       "      <td>450.42</td>\n",
       "      <td>28.2</td>\n",
       "      <td>0.06</td>\n",
       "      <td>0.03</td>\n",
       "      <td>0.53</td>\n",
       "      <td>0.65</td>\n",
       "      <td>0.270</td>\n",
       "      <td>332492</td>\n",
       "    </tr>\n",
       "    <tr>\n",
       "      <th>3</th>\n",
       "      <td>Russia</td>\n",
       "      <td>3127347</td>\n",
       "      <td>10320405</td>\n",
       "      <td>56271</td>\n",
       "      <td>144073139</td>\n",
       "      <td>0.0217</td>\n",
       "      <td>-1.72</td>\n",
       "      <td>62450000</td>\n",
       "      <td>8.82</td>\n",
       "      <td>39.6</td>\n",
       "      <td>0.14</td>\n",
       "      <td>0.09</td>\n",
       "      <td>8.05</td>\n",
       "      <td>0.82</td>\n",
       "      <td>0.268</td>\n",
       "      <td>246400</td>\n",
       "    </tr>\n",
       "    <tr>\n",
       "      <th>4</th>\n",
       "      <td>Mexico</td>\n",
       "      <td>1426094</td>\n",
       "      <td>3979723</td>\n",
       "      <td>125807</td>\n",
       "      <td>125998302</td>\n",
       "      <td>0.0113</td>\n",
       "      <td>22.08</td>\n",
       "      <td>34130000</td>\n",
       "      <td>66.44</td>\n",
       "      <td>29.3</td>\n",
       "      <td>0.07</td>\n",
       "      <td>0.04</td>\n",
       "      <td>1.38</td>\n",
       "      <td>0.78</td>\n",
       "      <td>0.131</td>\n",
       "      <td>173621</td>\n",
       "    </tr>\n",
       "  </tbody>\n",
       "</table>\n",
       "</div>"
      ],
      "text/plain": [
       "         Country  Total_Cases2020  Total_Cases2021  Total_deaths_2020  \\\n",
       "0  United States         20217056         54904270             350555   \n",
       "1         Brazil          7681032         22291839             195072   \n",
       "2          India         10286709         34861579             148994   \n",
       "3         Russia          3127347         10320405              56271   \n",
       "4         Mexico          1426094          3979723             125807   \n",
       "\n",
       "   Population  %Infection_of_Total_Population  Averager_yearly_temperature  \\\n",
       "0   331501080                          0.0610                        10.00   \n",
       "1   213196304                          0.0360                        25.93   \n",
       "2  1396387127                          0.0074                        24.80   \n",
       "3   144073139                          0.0217                        -1.72   \n",
       "4   125998302                          0.0113                        22.08   \n",
       "\n",
       "   Airline_Passengers  population_density  median_age  aged_65_older%  \\\n",
       "0           369500000               35.61        38.3            0.15   \n",
       "1            45410000               25.04        33.5            0.09   \n",
       "2            68960000              450.42        28.2            0.06   \n",
       "3            62450000                8.82        39.6            0.14   \n",
       "4            34130000               66.44        29.3            0.07   \n",
       "\n",
       "   aged_70_older%  hospital_beds_per_thousand  human_development_index  \\\n",
       "0            0.10                        2.77                     0.93   \n",
       "1            0.05                        2.20                     0.77   \n",
       "2            0.03                        0.53                     0.65   \n",
       "3            0.09                        8.05                     0.82   \n",
       "4            0.04                        1.38                     0.78   \n",
       "\n",
       "   Tobacco use (% of adults)  Total_deaths_2021  \n",
       "0                      0.230             475059  \n",
       "1                      0.128             424262  \n",
       "2                      0.270             332492  \n",
       "3                      0.268             246400  \n",
       "4                      0.131             173621  "
      ]
     },
     "execution_count": 2,
     "metadata": {},
     "output_type": "execute_result"
    }
   ],
   "source": [
    "df = pd.read_csv('To_model2.csv')\n",
    "df.head()"
   ]
  },
  {
   "cell_type": "code",
   "execution_count": 3,
   "id": "042fd732",
   "metadata": {},
   "outputs": [
    {
     "name": "stdout",
     "output_type": "stream",
     "text": [
      "<class 'pandas.core.frame.DataFrame'>\n",
      "RangeIndex: 115 entries, 0 to 114\n",
      "Data columns (total 16 columns):\n",
      " #   Column                          Non-Null Count  Dtype  \n",
      "---  ------                          --------------  -----  \n",
      " 0   Country                         115 non-null    object \n",
      " 1   Total_Cases2020                 115 non-null    int64  \n",
      " 2   Total_Cases2021                 115 non-null    int64  \n",
      " 3   Total_deaths_2020               115 non-null    int64  \n",
      " 4   Population                      115 non-null    int64  \n",
      " 5   %Infection_of_Total_Population  115 non-null    float64\n",
      " 6   Averager_yearly_temperature     115 non-null    float64\n",
      " 7   Airline_Passengers              115 non-null    int64  \n",
      " 8   population_density              115 non-null    float64\n",
      " 9   median_age                      115 non-null    float64\n",
      " 10  aged_65_older%                  115 non-null    float64\n",
      " 11  aged_70_older%                  115 non-null    float64\n",
      " 12  hospital_beds_per_thousand      115 non-null    float64\n",
      " 13  human_development_index         115 non-null    float64\n",
      " 14  Tobacco use (% of adults)       115 non-null    float64\n",
      " 15  Total_deaths_2021               115 non-null    int64  \n",
      "dtypes: float64(9), int64(6), object(1)\n",
      "memory usage: 14.5+ KB\n"
     ]
    }
   ],
   "source": [
    "df.info()"
   ]
  },
  {
   "cell_type": "markdown",
   "id": "e1cce6ac",
   "metadata": {},
   "source": [
    "## Exploratory Data Analysis\n",
    "### Questions to answer: \n",
    "### 1- What are the top countries in total deaths in 2021?\n",
    "### 2- What are the top countries in infection rate?\n",
    "### 3- What is the relation between infection rate and total deaths 2021?\n",
    "### 4- What are the top countries Total Cases 2021?\n",
    "### 5-What is the relation between total cases 2021 and total deaths 2021?\n",
    "### 6-What is the relation between Population and total deaths 2021?\n",
    "### 7-What are the top countries in Airline Passengers?\n",
    "### 8-What is the relation between Airline Passengers and total deaths 2021?\n",
    "### 9- What are the top countries in hospital_beds_per_thousand?\n",
    "### 10-What is the relation between hospital_beds_per_thousand and total deaths 2021?\n",
    "### 11-What is the top countries in Averager_yearly_temperature?\n",
    "### 12-What is the relation between Averager_yearly_temperature and Total Deaths 2021?\n",
    "### 13-What is the top countries in aged_65_older%?\n",
    "### 14-What is the relation between aged_65_older% and Total Deaths 2021?\n",
    "### 15-What is the top countries in human_development_index%?\n",
    "### 16-What is the relation between human_development_index and Total Deaths 2021?"
   ]
  },
  {
   "cell_type": "code",
   "execution_count": 4,
   "id": "375587bf",
   "metadata": {
    "scrolled": true
   },
   "outputs": [
    {
     "data": {
      "text/html": [
       "<div>\n",
       "<style scoped>\n",
       "    .dataframe tbody tr th:only-of-type {\n",
       "        vertical-align: middle;\n",
       "    }\n",
       "\n",
       "    .dataframe tbody tr th {\n",
       "        vertical-align: top;\n",
       "    }\n",
       "\n",
       "    .dataframe thead th {\n",
       "        text-align: right;\n",
       "    }\n",
       "</style>\n",
       "<table border=\"1\" class=\"dataframe\">\n",
       "  <thead>\n",
       "    <tr style=\"text-align: right;\">\n",
       "      <th></th>\n",
       "      <th>Total_Cases2020</th>\n",
       "      <th>Total_Cases2021</th>\n",
       "      <th>Total_deaths_2020</th>\n",
       "      <th>Population</th>\n",
       "      <th>%Infection_of_Total_Population</th>\n",
       "      <th>Averager_yearly_temperature</th>\n",
       "      <th>Airline_Passengers</th>\n",
       "      <th>population_density</th>\n",
       "      <th>median_age</th>\n",
       "      <th>aged_65_older%</th>\n",
       "      <th>aged_70_older%</th>\n",
       "      <th>hospital_beds_per_thousand</th>\n",
       "      <th>human_development_index</th>\n",
       "      <th>Tobacco use (% of adults)</th>\n",
       "      <th>Total_deaths_2021</th>\n",
       "    </tr>\n",
       "  </thead>\n",
       "  <tbody>\n",
       "    <tr>\n",
       "      <th>count</th>\n",
       "      <td>1.150000e+02</td>\n",
       "      <td>1.150000e+02</td>\n",
       "      <td>115.000000</td>\n",
       "      <td>1.150000e+02</td>\n",
       "      <td>115.000000</td>\n",
       "      <td>115.000000</td>\n",
       "      <td>1.150000e+02</td>\n",
       "      <td>115.000000</td>\n",
       "      <td>115.000000</td>\n",
       "      <td>115.000000</td>\n",
       "      <td>115.000000</td>\n",
       "      <td>115.000000</td>\n",
       "      <td>115.000000</td>\n",
       "      <td>115.000000</td>\n",
       "      <td>115.000000</td>\n",
       "    </tr>\n",
       "    <tr>\n",
       "      <th>mean</th>\n",
       "      <td>6.880559e+05</td>\n",
       "      <td>2.333632e+06</td>\n",
       "      <td>15999.417391</td>\n",
       "      <td>5.952326e+07</td>\n",
       "      <td>0.019562</td>\n",
       "      <td>18.135391</td>\n",
       "      <td>1.488000e+07</td>\n",
       "      <td>224.900609</td>\n",
       "      <td>32.515652</td>\n",
       "      <td>0.098696</td>\n",
       "      <td>0.063478</td>\n",
       "      <td>2.996783</td>\n",
       "      <td>0.765043</td>\n",
       "      <td>0.189504</td>\n",
       "      <td>29360.408696</td>\n",
       "    </tr>\n",
       "    <tr>\n",
       "      <th>std</th>\n",
       "      <td>2.242842e+06</td>\n",
       "      <td>6.537966e+06</td>\n",
       "      <td>43509.895891</td>\n",
       "      <td>1.878776e+08</td>\n",
       "      <td>0.019251</td>\n",
       "      <td>8.116743</td>\n",
       "      <td>5.250516e+07</td>\n",
       "      <td>770.357411</td>\n",
       "      <td>8.626627</td>\n",
       "      <td>0.065541</td>\n",
       "      <td>0.045249</td>\n",
       "      <td>2.371809</td>\n",
       "      <td>0.137473</td>\n",
       "      <td>0.098738</td>\n",
       "      <td>72809.965067</td>\n",
       "    </tr>\n",
       "    <tr>\n",
       "      <th>min</th>\n",
       "      <td>4.900000e+01</td>\n",
       "      <td>2.660000e+03</td>\n",
       "      <td>0.000000</td>\n",
       "      <td>9.846200e+04</td>\n",
       "      <td>0.000000</td>\n",
       "      <td>-4.270000</td>\n",
       "      <td>0.000000e+00</td>\n",
       "      <td>1.980000</td>\n",
       "      <td>16.400000</td>\n",
       "      <td>0.010000</td>\n",
       "      <td>0.010000</td>\n",
       "      <td>0.200000</td>\n",
       "      <td>0.450000</td>\n",
       "      <td>0.000000</td>\n",
       "      <td>3.000000</td>\n",
       "    </tr>\n",
       "    <tr>\n",
       "      <th>25%</th>\n",
       "      <td>3.182050e+04</td>\n",
       "      <td>1.939915e+05</td>\n",
       "      <td>343.500000</td>\n",
       "      <td>5.251290e+06</td>\n",
       "      <td>0.001900</td>\n",
       "      <td>11.105000</td>\n",
       "      <td>3.250000e+05</td>\n",
       "      <td>36.990000</td>\n",
       "      <td>25.950000</td>\n",
       "      <td>0.040000</td>\n",
       "      <td>0.030000</td>\n",
       "      <td>1.300000</td>\n",
       "      <td>0.685000</td>\n",
       "      <td>0.117500</td>\n",
       "      <td>1449.000000</td>\n",
       "    </tr>\n",
       "    <tr>\n",
       "      <th>50%</th>\n",
       "      <td>1.391400e+05</td>\n",
       "      <td>5.705560e+05</td>\n",
       "      <td>2189.000000</td>\n",
       "      <td>1.566967e+07</td>\n",
       "      <td>0.013400</td>\n",
       "      <td>20.410000</td>\n",
       "      <td>1.460000e+06</td>\n",
       "      <td>85.130000</td>\n",
       "      <td>32.200000</td>\n",
       "      <td>0.070000</td>\n",
       "      <td>0.050000</td>\n",
       "      <td>2.320000</td>\n",
       "      <td>0.780000</td>\n",
       "      <td>0.208000</td>\n",
       "      <td>5167.000000</td>\n",
       "    </tr>\n",
       "    <tr>\n",
       "      <th>75%</th>\n",
       "      <td>4.382860e+05</td>\n",
       "      <td>1.658398e+06</td>\n",
       "      <td>8946.000000</td>\n",
       "      <td>4.379186e+07</td>\n",
       "      <td>0.032950</td>\n",
       "      <td>25.325000</td>\n",
       "      <td>1.091000e+07</td>\n",
       "      <td>152.750000</td>\n",
       "      <td>40.200000</td>\n",
       "      <td>0.150000</td>\n",
       "      <td>0.100000</td>\n",
       "      <td>4.100000</td>\n",
       "      <td>0.880000</td>\n",
       "      <td>0.254500</td>\n",
       "      <td>19202.000000</td>\n",
       "    </tr>\n",
       "    <tr>\n",
       "      <th>max</th>\n",
       "      <td>2.021706e+07</td>\n",
       "      <td>5.490427e+07</td>\n",
       "      <td>350555.000000</td>\n",
       "      <td>1.411100e+09</td>\n",
       "      <td>0.073600</td>\n",
       "      <td>29.630000</td>\n",
       "      <td>4.172600e+08</td>\n",
       "      <td>7915.730000</td>\n",
       "      <td>48.200000</td>\n",
       "      <td>0.270000</td>\n",
       "      <td>0.180000</td>\n",
       "      <td>13.050000</td>\n",
       "      <td>0.960000</td>\n",
       "      <td>0.390000</td>\n",
       "      <td>475059.000000</td>\n",
       "    </tr>\n",
       "  </tbody>\n",
       "</table>\n",
       "</div>"
      ],
      "text/plain": [
       "       Total_Cases2020  Total_Cases2021  Total_deaths_2020    Population  \\\n",
       "count     1.150000e+02     1.150000e+02         115.000000  1.150000e+02   \n",
       "mean      6.880559e+05     2.333632e+06       15999.417391  5.952326e+07   \n",
       "std       2.242842e+06     6.537966e+06       43509.895891  1.878776e+08   \n",
       "min       4.900000e+01     2.660000e+03           0.000000  9.846200e+04   \n",
       "25%       3.182050e+04     1.939915e+05         343.500000  5.251290e+06   \n",
       "50%       1.391400e+05     5.705560e+05        2189.000000  1.566967e+07   \n",
       "75%       4.382860e+05     1.658398e+06        8946.000000  4.379186e+07   \n",
       "max       2.021706e+07     5.490427e+07      350555.000000  1.411100e+09   \n",
       "\n",
       "       %Infection_of_Total_Population  Averager_yearly_temperature  \\\n",
       "count                      115.000000                   115.000000   \n",
       "mean                         0.019562                    18.135391   \n",
       "std                          0.019251                     8.116743   \n",
       "min                          0.000000                    -4.270000   \n",
       "25%                          0.001900                    11.105000   \n",
       "50%                          0.013400                    20.410000   \n",
       "75%                          0.032950                    25.325000   \n",
       "max                          0.073600                    29.630000   \n",
       "\n",
       "       Airline_Passengers  population_density  median_age  aged_65_older%  \\\n",
       "count        1.150000e+02          115.000000  115.000000      115.000000   \n",
       "mean         1.488000e+07          224.900609   32.515652        0.098696   \n",
       "std          5.250516e+07          770.357411    8.626627        0.065541   \n",
       "min          0.000000e+00            1.980000   16.400000        0.010000   \n",
       "25%          3.250000e+05           36.990000   25.950000        0.040000   \n",
       "50%          1.460000e+06           85.130000   32.200000        0.070000   \n",
       "75%          1.091000e+07          152.750000   40.200000        0.150000   \n",
       "max          4.172600e+08         7915.730000   48.200000        0.270000   \n",
       "\n",
       "       aged_70_older%  hospital_beds_per_thousand  human_development_index  \\\n",
       "count      115.000000                  115.000000               115.000000   \n",
       "mean         0.063478                    2.996783                 0.765043   \n",
       "std          0.045249                    2.371809                 0.137473   \n",
       "min          0.010000                    0.200000                 0.450000   \n",
       "25%          0.030000                    1.300000                 0.685000   \n",
       "50%          0.050000                    2.320000                 0.780000   \n",
       "75%          0.100000                    4.100000                 0.880000   \n",
       "max          0.180000                   13.050000                 0.960000   \n",
       "\n",
       "       Tobacco use (% of adults)  Total_deaths_2021  \n",
       "count                 115.000000         115.000000  \n",
       "mean                    0.189504       29360.408696  \n",
       "std                     0.098738       72809.965067  \n",
       "min                     0.000000           3.000000  \n",
       "25%                     0.117500        1449.000000  \n",
       "50%                     0.208000        5167.000000  \n",
       "75%                     0.254500       19202.000000  \n",
       "max                     0.390000      475059.000000  "
      ]
     },
     "execution_count": 4,
     "metadata": {},
     "output_type": "execute_result"
    }
   ],
   "source": [
    "df.describe()"
   ]
  },
  {
   "cell_type": "markdown",
   "id": "72986f9d",
   "metadata": {},
   "source": [
    "### What are the top countries in total deaths in 2021?"
   ]
  },
  {
   "cell_type": "code",
   "execution_count": 5,
   "id": "2e8ddd1f",
   "metadata": {},
   "outputs": [
    {
     "data": {
      "image/png": "[encoded data removed]",
      "text/plain": [
       "<Figure size 864x432 with 1 Axes>"
      ]
     },
     "metadata": {
      "needs_background": "light"
     },
     "output_type": "display_data"
    }
   ],
   "source": [
    "deaths_country = df.groupby(['Country'])['Total_deaths_2021'].sum().sort_values(ascending= False)[0:10]\n",
    "deaths_country.plot(kind = 'bar', title = 'Top Countries in Total Deaths 2021',figsize=(12,6))\n",
    "plt.xlabel('Country')\n",
    "plt.ylabel('Total Deaths 2021');"
   ]
  },
  {
   "cell_type": "markdown",
   "id": "6cb437ab",
   "metadata": {},
   "source": [
    "### What are the top countries in infection rate?"
   ]
  },
  {
   "cell_type": "code",
   "execution_count": 6,
   "id": "4f9a6c61",
   "metadata": {
    "scrolled": false
   },
   "outputs": [
    {
     "data": {
      "image/png": "[encoded data removed]",
      "text/plain": [
       "<Figure size 864x432 with 1 Axes>"
      ]
     },
     "metadata": {
      "needs_background": "light"
     },
     "output_type": "display_data"
    }
   ],
   "source": [
    "deaths_country = df.groupby(['Country'])['%Infection_of_Total_Population'].sum().sort_values(ascending= False)[0:15]\n",
    "deaths_country.plot(kind = 'bar' , title = 'Top Countries in Infrection Rate',figsize=(12,6))\n",
    "plt.xlabel('Country')\n",
    "plt.ylabel('Infection Rate');"
   ]
  },
  {
   "cell_type": "markdown",
   "id": "ea713580",
   "metadata": {},
   "source": [
    "## Distributions of numeric features"
   ]
  },
  {
   "cell_type": "code",
   "execution_count": 7,
   "id": "d384a024",
   "metadata": {},
   "outputs": [
    {
     "data": {
      "image/png": "[encoded data removed]",
      "text/plain": [
       "<Figure size 1152x1152 with 16 Axes>"
      ]
     },
     "metadata": {
      "needs_background": "light"
     },
     "output_type": "display_data"
    }
   ],
   "source": [
    "# Plot histogram grid\n",
    "df.hist(figsize=(16,16), xrot=-45) ## Display the labels rotated by 45 degress\n",
    "\n",
    "# Clear the text \"residue\"\n",
    "plt.show()"
   ]
  },
  {
   "cell_type": "markdown",
   "id": "86d95f3a",
   "metadata": {},
   "source": [
    "### What about the outliers in total deaths?"
   ]
  },
  {
   "cell_type": "code",
   "execution_count": 8,
   "id": "df4d2c78",
   "metadata": {},
   "outputs": [
    {
     "name": "stderr",
     "output_type": "stream",
     "text": [
      "C:\\Users\\dell\\anaconda3\\lib\\site-packages\\seaborn\\_decorators.py:36: FutureWarning: Pass the following variable as a keyword arg: x. From version 0.12, the only valid positional argument will be `data`, and passing other arguments without an explicit keyword will result in an error or misinterpretation.\n",
      "  warnings.warn(\n"
     ]
    },
    {
     "data": {
      "text/plain": [
       "<AxesSubplot:xlabel='Total_deaths_2021'>"
      ]
     },
     "execution_count": 8,
     "metadata": {},
     "output_type": "execute_result"
    },
    {
     "data": {
      "image/png": "[encoded data removed]",
      "text/plain": [
       "<Figure size 432x288 with 1 Axes>"
      ]
     },
     "metadata": {
      "needs_background": "light"
     },
     "output_type": "display_data"
    }
   ],
   "source": [
    "sns.boxplot(df.Total_deaths_2021)"
   ]
  },
  {
   "cell_type": "markdown",
   "id": "9bb5a5fd",
   "metadata": {},
   "source": [
    "### Answer"
   ]
  },
  {
   "cell_type": "code",
   "execution_count": 9,
   "id": "fbfc8edb",
   "metadata": {},
   "outputs": [
    {
     "data": {
      "text/plain": [
       "Country\n",
       "United States     475059\n",
       "Brazil            424262\n",
       "India             332492\n",
       "Russia            246400\n",
       "Mexico            173621\n",
       "Indonesia         121956\n",
       "Peru              109620\n",
       "Colombia           86729\n",
       "Ukraine            82807\n",
       "United Kingdom     82399\n",
       "Name: Total_deaths_2021, dtype: int64"
      ]
     },
     "execution_count": 9,
     "metadata": {},
     "output_type": "execute_result"
    }
   ],
   "source": [
    "df.groupby(['Country'])['Total_deaths_2021'].sum().sort_values(ascending= False)[0:10]"
   ]
  },
  {
   "cell_type": "markdown",
   "id": "5dab9828",
   "metadata": {},
   "source": [
    "### What about the outliers in infection rate?"
   ]
  },
  {
   "cell_type": "code",
   "execution_count": 10,
   "id": "2a2ade65",
   "metadata": {},
   "outputs": [
    {
     "name": "stderr",
     "output_type": "stream",
     "text": [
      "C:\\Users\\dell\\anaconda3\\lib\\site-packages\\seaborn\\_decorators.py:36: FutureWarning: Pass the following variable as a keyword arg: x. From version 0.12, the only valid positional argument will be `data`, and passing other arguments without an explicit keyword will result in an error or misinterpretation.\n",
      "  warnings.warn(\n"
     ]
    },
    {
     "data": {
      "text/plain": [
       "<AxesSubplot:xlabel='%Infection_of_Total_Population'>"
      ]
     },
     "execution_count": 10,
     "metadata": {},
     "output_type": "execute_result"
    },
    {
     "data": {
      "image/png": "[encoded data removed]",
      "text/plain": [
       "<Figure size 432x288 with 1 Axes>"
      ]
     },
     "metadata": {
      "needs_background": "light"
     },
     "output_type": "display_data"
    }
   ],
   "source": [
    "sns.boxplot(df['%Infection_of_Total_Population'])"
   ]
  },
  {
   "cell_type": "markdown",
   "id": "f1711bc8",
   "metadata": {},
   "source": [
    "### Answer: There are no outliers but the data is left sckewed."
   ]
  },
  {
   "cell_type": "code",
   "execution_count": 11,
   "id": "3c161221",
   "metadata": {},
   "outputs": [
    {
     "data": {
      "text/plain": [
       "Country\n",
       "Luxembourg       0.0736\n",
       "Bahrain          0.0627\n",
       "Georgia          0.0611\n",
       "United States    0.0610\n",
       "Slovenia         0.0581\n",
       "Panama           0.0575\n",
       "Armenia          0.0568\n",
       "Belgium          0.0560\n",
       "Moldova          0.0550\n",
       "Switzerland      0.0524\n",
       "Name: %Infection_of_Total_Population, dtype: float64"
      ]
     },
     "execution_count": 11,
     "metadata": {},
     "output_type": "execute_result"
    }
   ],
   "source": [
    "df.groupby(['Country'])['%Infection_of_Total_Population'].sum().sort_values(ascending= False)[0:10]"
   ]
  },
  {
   "cell_type": "code",
   "execution_count": 12,
   "id": "ce5088ad",
   "metadata": {},
   "outputs": [
    {
     "data": {
      "text/plain": [
       "Country\n",
       "Vietnam         0.0000\n",
       "Cambodia        0.0000\n",
       "Tanzania        0.0000\n",
       "Fiji            0.0001\n",
       "Thailand        0.0001\n",
       "China           0.0001\n",
       "Malawi          0.0003\n",
       "Burkina Faso    0.0003\n",
       "Togo            0.0004\n",
       "Mongolia        0.0004\n",
       "Name: %Infection_of_Total_Population, dtype: float64"
      ]
     },
     "execution_count": 12,
     "metadata": {},
     "output_type": "execute_result"
    }
   ],
   "source": [
    "df.groupby(['Country'])['%Infection_of_Total_Population'].sum().sort_values(ascending= True)[0:10]"
   ]
  },
  {
   "cell_type": "markdown",
   "id": "d57a7ebc",
   "metadata": {},
   "source": [
    "### What is the relation between infection rate and total deaths?"
   ]
  },
  {
   "cell_type": "code",
   "execution_count": 13,
   "id": "b18e0cdc",
   "metadata": {},
   "outputs": [
    {
     "data": {
      "image/png": "[encoded data removed]",
      "text/plain": [
       "<Figure size 432x288 with 1 Axes>"
      ]
     },
     "metadata": {
      "needs_background": "light"
     },
     "output_type": "display_data"
    }
   ],
   "source": [
    "plt.scatter(df['%Infection_of_Total_Population'], df['Total_deaths_2021'])\n",
    "plt.xlabel('Infection Rate')\n",
    "plt.ylabel('Total Deaths')\n",
    "plt.show()"
   ]
  },
  {
   "cell_type": "markdown",
   "id": "97f9e89c",
   "metadata": {},
   "source": [
    "### What are the top countries in Total Cases 2021? Are there outliers?"
   ]
  },
  {
   "cell_type": "code",
   "execution_count": 14,
   "id": "8094682b",
   "metadata": {},
   "outputs": [
    {
     "name": "stderr",
     "output_type": "stream",
     "text": [
      "C:\\Users\\dell\\anaconda3\\lib\\site-packages\\seaborn\\_decorators.py:36: FutureWarning: Pass the following variable as a keyword arg: x. From version 0.12, the only valid positional argument will be `data`, and passing other arguments without an explicit keyword will result in an error or misinterpretation.\n",
      "  warnings.warn(\n"
     ]
    },
    {
     "data": {
      "text/plain": [
       "<AxesSubplot:xlabel='Total_Cases2021'>"
      ]
     },
     "execution_count": 14,
     "metadata": {},
     "output_type": "execute_result"
    },
    {
     "data": {
      "image/png": "[encoded data removed]",
      "text/plain": [
       "<Figure size 432x288 with 1 Axes>"
      ]
     },
     "metadata": {
      "needs_background": "light"
     },
     "output_type": "display_data"
    }
   ],
   "source": [
    "sns.boxplot(df.Total_Cases2021)"
   ]
  },
  {
   "cell_type": "markdown",
   "id": "2652d2d2",
   "metadata": {},
   "source": [
    "### Answer"
   ]
  },
  {
   "cell_type": "code",
   "execution_count": 15,
   "id": "69fc73e7",
   "metadata": {},
   "outputs": [
    {
     "data": {
      "text/plain": [
       "Country\n",
       "United States     54904270\n",
       "India             34861579\n",
       "Brazil            22291839\n",
       "United Kingdom    12937886\n",
       "Russia            10320405\n",
       "France            10018021\n",
       "Germany            7109182\n",
       "Spain              6294745\n",
       "Iran               6194401\n",
       "Italy              6125683\n",
       "Name: Total_Cases2021, dtype: int64"
      ]
     },
     "execution_count": 15,
     "metadata": {},
     "output_type": "execute_result"
    }
   ],
   "source": [
    "df.groupby(['Country'])['Total_Cases2021'].sum().sort_values(ascending= False)[0:10]"
   ]
  },
  {
   "cell_type": "markdown",
   "id": "57cc418f",
   "metadata": {},
   "source": [
    "### What is the relation between total cases 2021 and total deaths 2021"
   ]
  },
  {
   "cell_type": "code",
   "execution_count": 16,
   "id": "61e5ce19",
   "metadata": {},
   "outputs": [
    {
     "data": {
      "image/png": "[encoded data removed]",
      "text/plain": [
       "<Figure size 432x288 with 1 Axes>"
      ]
     },
     "metadata": {
      "needs_background": "light"
     },
     "output_type": "display_data"
    }
   ],
   "source": [
    "plt.scatter(df['Total_Cases2021'], df['Total_deaths_2021'])\n",
    "plt.xlabel('Total Cases 2021')\n",
    "plt.ylabel('Total Deaths 2021')\n",
    "plt.show()"
   ]
  },
  {
   "cell_type": "markdown",
   "id": "fab377fd",
   "metadata": {},
   "source": [
    "### What are the top countries in Population? "
   ]
  },
  {
   "cell_type": "code",
   "execution_count": 17,
   "id": "b9c03b0f",
   "metadata": {},
   "outputs": [
    {
     "name": "stderr",
     "output_type": "stream",
     "text": [
      "C:\\Users\\dell\\anaconda3\\lib\\site-packages\\seaborn\\_decorators.py:36: FutureWarning: Pass the following variable as a keyword arg: x. From version 0.12, the only valid positional argument will be `data`, and passing other arguments without an explicit keyword will result in an error or misinterpretation.\n",
      "  warnings.warn(\n"
     ]
    },
    {
     "data": {
      "text/plain": [
       "<AxesSubplot:xlabel='Population'>"
      ]
     },
     "execution_count": 17,
     "metadata": {},
     "output_type": "execute_result"
    },
    {
     "data": {
      "image/png": "[encoded data removed]",
      "text/plain": [
       "<Figure size 432x288 with 1 Axes>"
      ]
     },
     "metadata": {
      "needs_background": "light"
     },
     "output_type": "display_data"
    }
   ],
   "source": [
    "sns.boxplot(df.Population)"
   ]
  },
  {
   "cell_type": "markdown",
   "id": "236d4b8a",
   "metadata": {},
   "source": [
    "### Answer "
   ]
  },
  {
   "cell_type": "code",
   "execution_count": 18,
   "id": "b93e0be4",
   "metadata": {},
   "outputs": [
    {
     "data": {
      "text/plain": [
       "Country\n",
       "China            1411100000\n",
       "India            1396387127\n",
       "United States     331501080\n",
       "Indonesia         271857970\n",
       "Pakistan          227196741\n",
       "Brazil            213196304\n",
       "Bangladesh        167420951\n",
       "Russia            144073139\n",
       "Japan             126261000\n",
       "Mexico            125998302\n",
       "Name: Population, dtype: int64"
      ]
     },
     "execution_count": 18,
     "metadata": {},
     "output_type": "execute_result"
    }
   ],
   "source": [
    "df.groupby(['Country'])['Population'].sum().sort_values(ascending= False)[0:10]"
   ]
  },
  {
   "cell_type": "markdown",
   "id": "cac52390",
   "metadata": {},
   "source": [
    "### What is the relation between Population and total deaths 2021"
   ]
  },
  {
   "cell_type": "code",
   "execution_count": 19,
   "id": "5219bddc",
   "metadata": {},
   "outputs": [
    {
     "data": {
      "image/png": "[encoded data removed]",
      "text/plain": [
       "<Figure size 432x288 with 1 Axes>"
      ]
     },
     "metadata": {
      "needs_background": "light"
     },
     "output_type": "display_data"
    }
   ],
   "source": [
    "plt.scatter(df['Population'], df['Total_deaths_2021'])\n",
    "plt.xlabel('Population')\n",
    "plt.ylabel('Total Deaths 2021')\n",
    "plt.show()"
   ]
  },
  {
   "cell_type": "markdown",
   "id": "1bed0dd8",
   "metadata": {},
   "source": [
    "###  What are the top countries in Airline Passengers?"
   ]
  },
  {
   "cell_type": "code",
   "execution_count": 20,
   "id": "a9539c58",
   "metadata": {},
   "outputs": [
    {
     "name": "stderr",
     "output_type": "stream",
     "text": [
      "C:\\Users\\dell\\anaconda3\\lib\\site-packages\\seaborn\\_decorators.py:36: FutureWarning: Pass the following variable as a keyword arg: x. From version 0.12, the only valid positional argument will be `data`, and passing other arguments without an explicit keyword will result in an error or misinterpretation.\n",
      "  warnings.warn(\n"
     ]
    },
    {
     "data": {
      "text/plain": [
       "<AxesSubplot:xlabel='Airline_Passengers'>"
      ]
     },
     "execution_count": 20,
     "metadata": {},
     "output_type": "execute_result"
    },
    {
     "data": {
      "image/png": "[encoded data removed]",
      "text/plain": [
       "<Figure size 432x288 with 1 Axes>"
      ]
     },
     "metadata": {
      "needs_background": "light"
     },
     "output_type": "display_data"
    }
   ],
   "source": [
    "sns.boxplot(df.Airline_Passengers)"
   ]
  },
  {
   "cell_type": "markdown",
   "id": "5c9465a7",
   "metadata": {},
   "source": [
    "### Answer"
   ]
  },
  {
   "cell_type": "code",
   "execution_count": 21,
   "id": "014bfdcf",
   "metadata": {},
   "outputs": [
    {
     "data": {
      "text/plain": [
       "Country\n",
       "China            417260000\n",
       "United States    369500000\n",
       "India             68960000\n",
       "Russia            62450000\n",
       "Ireland           54580000\n",
       "Japan             51130000\n",
       "Brazil            45410000\n",
       "Indonesia         37520000\n",
       "Mexico            34130000\n",
       "Vietnam           31770000\n",
       "Name: Airline_Passengers, dtype: int64"
      ]
     },
     "execution_count": 21,
     "metadata": {},
     "output_type": "execute_result"
    }
   ],
   "source": [
    "df.groupby(['Country'])['Airline_Passengers'].sum().sort_values(ascending= False)[0:10]"
   ]
  },
  {
   "cell_type": "markdown",
   "id": "d94ccb48",
   "metadata": {},
   "source": [
    "### What is the relation between Airline Passengers and total deaths 2021"
   ]
  },
  {
   "cell_type": "code",
   "execution_count": 22,
   "id": "f4b538bf",
   "metadata": {},
   "outputs": [
    {
     "data": {
      "image/png": "[encoded data removed]",
      "text/plain": [
       "<Figure size 432x288 with 1 Axes>"
      ]
     },
     "metadata": {
      "needs_background": "light"
     },
     "output_type": "display_data"
    }
   ],
   "source": [
    "plt.scatter(df['Airline_Passengers'], df['Total_deaths_2021'])\n",
    "plt.xlabel('Airline_Passengers')\n",
    "plt.ylabel('Total Deaths 2021')\n",
    "plt.show()"
   ]
  },
  {
   "cell_type": "markdown",
   "id": "cbe420e4",
   "metadata": {},
   "source": [
    "### What are the outliers for hospital_beds_per_thousand?"
   ]
  },
  {
   "cell_type": "code",
   "execution_count": 23,
   "id": "28c1d6eb",
   "metadata": {},
   "outputs": [
    {
     "name": "stderr",
     "output_type": "stream",
     "text": [
      "C:\\Users\\dell\\anaconda3\\lib\\site-packages\\seaborn\\_decorators.py:36: FutureWarning: Pass the following variable as a keyword arg: x. From version 0.12, the only valid positional argument will be `data`, and passing other arguments without an explicit keyword will result in an error or misinterpretation.\n",
      "  warnings.warn(\n"
     ]
    },
    {
     "data": {
      "text/plain": [
       "<AxesSubplot:xlabel='hospital_beds_per_thousand'>"
      ]
     },
     "execution_count": 23,
     "metadata": {},
     "output_type": "execute_result"
    },
    {
     "data": {
      "image/png": "[encoded data removed]",
      "text/plain": [
       "<Figure size 432x288 with 1 Axes>"
      ]
     },
     "metadata": {
      "needs_background": "light"
     },
     "output_type": "display_data"
    }
   ],
   "source": [
    "sns.boxplot(df.hospital_beds_per_thousand)"
   ]
  },
  {
   "cell_type": "markdown",
   "id": "7700c37a",
   "metadata": {},
   "source": [
    "### Answer"
   ]
  },
  {
   "cell_type": "code",
   "execution_count": 24,
   "id": "68c4dc2c",
   "metadata": {},
   "outputs": [
    {
     "data": {
      "text/plain": [
       "Country\n",
       "Japan       13.05\n",
       "Belarus     11.00\n",
       "Ukraine      8.80\n",
       "Russia       8.05\n",
       "Germany      8.00\n",
       "Bulgaria     7.45\n",
       "Austria      7.37\n",
       "Hungary      7.02\n",
       "Mongolia     7.00\n",
       "Romania      6.89\n",
       "Name: hospital_beds_per_thousand, dtype: float64"
      ]
     },
     "execution_count": 24,
     "metadata": {},
     "output_type": "execute_result"
    }
   ],
   "source": [
    "df.groupby(['Country'])['hospital_beds_per_thousand'].sum().sort_values(ascending= False)[0:10]"
   ]
  },
  {
   "cell_type": "markdown",
   "id": "84ed104b",
   "metadata": {},
   "source": [
    "### What is the relation between hospital_beds_per_thousand and Total_deaths_2021?"
   ]
  },
  {
   "cell_type": "code",
   "execution_count": 25,
   "id": "316560b7",
   "metadata": {},
   "outputs": [
    {
     "data": {
      "image/png": "[encoded data removed]",
      "text/plain": [
       "<Figure size 432x288 with 1 Axes>"
      ]
     },
     "metadata": {
      "needs_background": "light"
     },
     "output_type": "display_data"
    }
   ],
   "source": [
    "plt.scatter(df['hospital_beds_per_thousand'], df['Total_deaths_2021'])\n",
    "plt.xlabel('hospital_beds_per_thousand')\n",
    "plt.ylabel('Total Deaths 2021')\n",
    "plt.show()"
   ]
  },
  {
   "cell_type": "markdown",
   "id": "8164d462",
   "metadata": {},
   "source": [
    "### What is the top countries in Averager_yearly_temperature? Are There outliers?"
   ]
  },
  {
   "cell_type": "code",
   "execution_count": 26,
   "id": "09f27737",
   "metadata": {},
   "outputs": [
    {
     "name": "stderr",
     "output_type": "stream",
     "text": [
      "C:\\Users\\dell\\anaconda3\\lib\\site-packages\\seaborn\\_decorators.py:36: FutureWarning: Pass the following variable as a keyword arg: x. From version 0.12, the only valid positional argument will be `data`, and passing other arguments without an explicit keyword will result in an error or misinterpretation.\n",
      "  warnings.warn(\n"
     ]
    },
    {
     "data": {
      "text/plain": [
       "<AxesSubplot:xlabel='Averager_yearly_temperature'>"
      ]
     },
     "execution_count": 26,
     "metadata": {},
     "output_type": "execute_result"
    },
    {
     "data": {
      "image/png": "[encoded data removed]",
      "text/plain": [
       "<Figure size 432x288 with 1 Axes>"
      ]
     },
     "metadata": {
      "needs_background": "light"
     },
     "output_type": "display_data"
    }
   ],
   "source": [
    "sns.boxplot(df.Averager_yearly_temperature)"
   ]
  },
  {
   "cell_type": "markdown",
   "id": "7909b499",
   "metadata": {},
   "source": [
    "### Answer: There are no outliers but the data is right skewed"
   ]
  },
  {
   "cell_type": "markdown",
   "id": "54b2c699",
   "metadata": {},
   "source": [
    "### What is the relation between Averager_yearly_temperature and Total Deaths 2021?"
   ]
  },
  {
   "cell_type": "code",
   "execution_count": 27,
   "id": "7391f965",
   "metadata": {},
   "outputs": [
    {
     "data": {
      "image/png": "[encoded data removed]",
      "text/plain": [
       "<Figure size 432x288 with 1 Axes>"
      ]
     },
     "metadata": {
      "needs_background": "light"
     },
     "output_type": "display_data"
    }
   ],
   "source": [
    "plt.scatter(df['Averager_yearly_temperature'], df['Total_deaths_2021'])\n",
    "plt.xlabel('Averager_yearly_temperature')\n",
    "plt.ylabel('Total Deaths')\n",
    "plt.show()"
   ]
  },
  {
   "cell_type": "markdown",
   "id": "5e960ca3",
   "metadata": {},
   "source": [
    "### What is the top countries in aged_65_older%? Are There outliers?"
   ]
  },
  {
   "cell_type": "code",
   "execution_count": 28,
   "id": "adba3a9b",
   "metadata": {},
   "outputs": [
    {
     "name": "stderr",
     "output_type": "stream",
     "text": [
      "C:\\Users\\dell\\anaconda3\\lib\\site-packages\\seaborn\\_decorators.py:36: FutureWarning: Pass the following variable as a keyword arg: x. From version 0.12, the only valid positional argument will be `data`, and passing other arguments without an explicit keyword will result in an error or misinterpretation.\n",
      "  warnings.warn(\n"
     ]
    },
    {
     "data": {
      "text/plain": [
       "<AxesSubplot:xlabel='aged_65_older%'>"
      ]
     },
     "execution_count": 28,
     "metadata": {},
     "output_type": "execute_result"
    },
    {
     "data": {
      "image/png": "[encoded data removed]",
      "text/plain": [
       "<Figure size 432x288 with 1 Axes>"
      ]
     },
     "metadata": {
      "needs_background": "light"
     },
     "output_type": "display_data"
    }
   ],
   "source": [
    "sns.boxplot(df['aged_65_older%'])"
   ]
  },
  {
   "cell_type": "markdown",
   "id": "06aa7473",
   "metadata": {},
   "source": [
    "### Answer: There are no outliers but the data is left skewed"
   ]
  },
  {
   "cell_type": "code",
   "execution_count": 29,
   "id": "1a880ca2",
   "metadata": {},
   "outputs": [
    {
     "data": {
      "text/plain": [
       "Country\n",
       "Japan       0.27\n",
       "Italy       0.23\n",
       "Portugal    0.22\n",
       "Bulgaria    0.21\n",
       "Germany     0.21\n",
       "Finland     0.21\n",
       "Greece      0.20\n",
       "France      0.20\n",
       "Denmark     0.20\n",
       "Croatia     0.20\n",
       "Name: aged_65_older%, dtype: float64"
      ]
     },
     "execution_count": 29,
     "metadata": {},
     "output_type": "execute_result"
    }
   ],
   "source": [
    "df.groupby(['Country'])['aged_65_older%'].sum().sort_values(ascending= False)[0:10]"
   ]
  },
  {
   "cell_type": "markdown",
   "id": "2a08d14d",
   "metadata": {},
   "source": [
    "### What is the relation between aged_65_older% and Total Deaths 2021?"
   ]
  },
  {
   "cell_type": "code",
   "execution_count": 30,
   "id": "a8b009d2",
   "metadata": {},
   "outputs": [
    {
     "data": {
      "image/png": "[encoded data removed]",
      "text/plain": [
       "<Figure size 432x288 with 1 Axes>"
      ]
     },
     "metadata": {
      "needs_background": "light"
     },
     "output_type": "display_data"
    }
   ],
   "source": [
    "plt.scatter(df['aged_65_older%'], df['Total_deaths_2021'])\n",
    "plt.xlabel('aged_65_older%')\n",
    "plt.ylabel('Total Deaths')\n",
    "plt.show()"
   ]
  },
  {
   "cell_type": "markdown",
   "id": "2c2305e6",
   "metadata": {},
   "source": [
    "### What is the top countries in human_development_index%? Are There outliers?"
   ]
  },
  {
   "cell_type": "code",
   "execution_count": 31,
   "id": "cf0935da",
   "metadata": {},
   "outputs": [
    {
     "name": "stderr",
     "output_type": "stream",
     "text": [
      "C:\\Users\\dell\\anaconda3\\lib\\site-packages\\seaborn\\_decorators.py:36: FutureWarning: Pass the following variable as a keyword arg: x. From version 0.12, the only valid positional argument will be `data`, and passing other arguments without an explicit keyword will result in an error or misinterpretation.\n",
      "  warnings.warn(\n"
     ]
    },
    {
     "data": {
      "text/plain": [
       "<AxesSubplot:xlabel='human_development_index'>"
      ]
     },
     "execution_count": 31,
     "metadata": {},
     "output_type": "execute_result"
    },
    {
     "data": {
      "image/png": "[encoded data removed]",
      "text/plain": [
       "<Figure size 432x288 with 1 Axes>"
      ]
     },
     "metadata": {
      "needs_background": "light"
     },
     "output_type": "display_data"
    }
   ],
   "source": [
    "sns.boxplot(df['human_development_index'])"
   ]
  },
  {
   "cell_type": "markdown",
   "id": "0a6882dd",
   "metadata": {},
   "source": [
    "### Answer: There are no outliers but the data is right skewed"
   ]
  },
  {
   "cell_type": "code",
   "execution_count": 32,
   "id": "cb345d8d",
   "metadata": {},
   "outputs": [
    {
     "data": {
      "text/plain": [
       "Country\n",
       "Ireland        0.96\n",
       "Norway         0.96\n",
       "Switzerland    0.96\n",
       "Iceland        0.95\n",
       "Germany        0.95\n",
       "Sweden         0.95\n",
       "Singapore      0.94\n",
       "Australia      0.94\n",
       "Finland        0.94\n",
       "Netherlands    0.94\n",
       "Name: human_development_index, dtype: float64"
      ]
     },
     "execution_count": 32,
     "metadata": {},
     "output_type": "execute_result"
    }
   ],
   "source": [
    "df.groupby(['Country'])['human_development_index'].sum().sort_values(ascending= False)[0:10]"
   ]
  },
  {
   "cell_type": "markdown",
   "id": "e592169d",
   "metadata": {},
   "source": [
    "### What is the relation between human_development_index and Total Deaths 2021?"
   ]
  },
  {
   "cell_type": "code",
   "execution_count": 33,
   "id": "b4e0bb99",
   "metadata": {},
   "outputs": [
    {
     "data": {
      "image/png": "[encoded data removed]",
      "text/plain": [
       "<Figure size 432x288 with 1 Axes>"
      ]
     },
     "metadata": {
      "needs_background": "light"
     },
     "output_type": "display_data"
    }
   ],
   "source": [
    "plt.scatter(df['human_development_index'], df['Total_deaths_2021'])\n",
    "plt.xlabel('human_development_index')\n",
    "plt.ylabel('Total Deaths')\n",
    "plt.show()"
   ]
  },
  {
   "cell_type": "code",
   "execution_count": 34,
   "id": "30919daa",
   "metadata": {},
   "outputs": [
    {
     "data": {
      "text/html": [
       "<div>\n",
       "<style scoped>\n",
       "    .dataframe tbody tr th:only-of-type {\n",
       "        vertical-align: middle;\n",
       "    }\n",
       "\n",
       "    .dataframe tbody tr th {\n",
       "        vertical-align: top;\n",
       "    }\n",
       "\n",
       "    .dataframe thead th {\n",
       "        text-align: right;\n",
       "    }\n",
       "</style>\n",
       "<table border=\"1\" class=\"dataframe\">\n",
       "  <thead>\n",
       "    <tr style=\"text-align: right;\">\n",
       "      <th></th>\n",
       "      <th>Total_Cases2020</th>\n",
       "      <th>Total_Cases2021</th>\n",
       "      <th>Total_deaths_2020</th>\n",
       "      <th>Population</th>\n",
       "      <th>%Infection_of_Total_Population</th>\n",
       "      <th>Averager_yearly_temperature</th>\n",
       "      <th>Airline_Passengers</th>\n",
       "      <th>population_density</th>\n",
       "      <th>median_age</th>\n",
       "      <th>aged_65_older%</th>\n",
       "      <th>aged_70_older%</th>\n",
       "      <th>hospital_beds_per_thousand</th>\n",
       "      <th>human_development_index</th>\n",
       "      <th>Tobacco use (% of adults)</th>\n",
       "      <th>Total_deaths_2021</th>\n",
       "    </tr>\n",
       "  </thead>\n",
       "  <tbody>\n",
       "    <tr>\n",
       "      <th>Total_Cases2020</th>\n",
       "      <td>1.000000</td>\n",
       "      <td>0.989052</td>\n",
       "      <td>0.939482</td>\n",
       "      <td>0.429960</td>\n",
       "      <td>0.241382</td>\n",
       "      <td>-0.093102</td>\n",
       "      <td>0.603128</td>\n",
       "      <td>-0.029852</td>\n",
       "      <td>0.121912</td>\n",
       "      <td>0.122395</td>\n",
       "      <td>0.115775</td>\n",
       "      <td>0.007701</td>\n",
       "      <td>0.139474</td>\n",
       "      <td>0.097584</td>\n",
       "      <td>0.896231</td>\n",
       "    </tr>\n",
       "    <tr>\n",
       "      <th>Total_Cases2021</th>\n",
       "      <td>0.989052</td>\n",
       "      <td>1.000000</td>\n",
       "      <td>0.933427</td>\n",
       "      <td>0.469862</td>\n",
       "      <td>0.224847</td>\n",
       "      <td>-0.096500</td>\n",
       "      <td>0.577975</td>\n",
       "      <td>-0.028505</td>\n",
       "      <td>0.141840</td>\n",
       "      <td>0.141278</td>\n",
       "      <td>0.134582</td>\n",
       "      <td>0.019697</td>\n",
       "      <td>0.152931</td>\n",
       "      <td>0.122904</td>\n",
       "      <td>0.906475</td>\n",
       "    </tr>\n",
       "    <tr>\n",
       "      <th>Total_deaths_2020</th>\n",
       "      <td>0.939482</td>\n",
       "      <td>0.933427</td>\n",
       "      <td>1.000000</td>\n",
       "      <td>0.364550</td>\n",
       "      <td>0.252309</td>\n",
       "      <td>-0.087244</td>\n",
       "      <td>0.551962</td>\n",
       "      <td>-0.049592</td>\n",
       "      <td>0.134884</td>\n",
       "      <td>0.136220</td>\n",
       "      <td>0.127941</td>\n",
       "      <td>-0.010629</td>\n",
       "      <td>0.164009</td>\n",
       "      <td>0.056227</td>\n",
       "      <td>0.928382</td>\n",
       "    </tr>\n",
       "    <tr>\n",
       "      <th>Population</th>\n",
       "      <td>0.429960</td>\n",
       "      <td>0.469862</td>\n",
       "      <td>0.364550</td>\n",
       "      <td>1.000000</td>\n",
       "      <td>-0.132619</td>\n",
       "      <td>-0.010982</td>\n",
       "      <td>0.685080</td>\n",
       "      <td>0.001859</td>\n",
       "      <td>-0.004501</td>\n",
       "      <td>-0.039682</td>\n",
       "      <td>-0.064032</td>\n",
       "      <td>-0.049421</td>\n",
       "      <td>-0.081750</td>\n",
       "      <td>0.127654</td>\n",
       "      <td>0.437151</td>\n",
       "    </tr>\n",
       "    <tr>\n",
       "      <th>%Infection_of_Total_Population</th>\n",
       "      <td>0.241382</td>\n",
       "      <td>0.224847</td>\n",
       "      <td>0.252309</td>\n",
       "      <td>-0.132619</td>\n",
       "      <td>1.000000</td>\n",
       "      <td>-0.347186</td>\n",
       "      <td>0.057405</td>\n",
       "      <td>0.008891</td>\n",
       "      <td>0.557600</td>\n",
       "      <td>0.477332</td>\n",
       "      <td>0.493149</td>\n",
       "      <td>0.325923</td>\n",
       "      <td>0.588644</td>\n",
       "      <td>0.313421</td>\n",
       "      <td>0.175748</td>\n",
       "    </tr>\n",
       "    <tr>\n",
       "      <th>Averager_yearly_temperature</th>\n",
       "      <td>-0.093102</td>\n",
       "      <td>-0.096500</td>\n",
       "      <td>-0.087244</td>\n",
       "      <td>-0.010982</td>\n",
       "      <td>-0.347186</td>\n",
       "      <td>1.000000</td>\n",
       "      <td>-0.181404</td>\n",
       "      <td>0.169046</td>\n",
       "      <td>-0.580764</td>\n",
       "      <td>-0.648722</td>\n",
       "      <td>-0.653905</td>\n",
       "      <td>-0.609560</td>\n",
       "      <td>-0.520181</td>\n",
       "      <td>-0.418850</td>\n",
       "      <td>-0.061437</td>\n",
       "    </tr>\n",
       "    <tr>\n",
       "      <th>Airline_Passengers</th>\n",
       "      <td>0.603128</td>\n",
       "      <td>0.577975</td>\n",
       "      <td>0.551962</td>\n",
       "      <td>0.685080</td>\n",
       "      <td>0.057405</td>\n",
       "      <td>-0.181404</td>\n",
       "      <td>1.000000</td>\n",
       "      <td>-0.022655</td>\n",
       "      <td>0.167139</td>\n",
       "      <td>0.121833</td>\n",
       "      <td>0.104258</td>\n",
       "      <td>0.076757</td>\n",
       "      <td>0.148382</td>\n",
       "      <td>0.101924</td>\n",
       "      <td>0.483714</td>\n",
       "    </tr>\n",
       "    <tr>\n",
       "      <th>population_density</th>\n",
       "      <td>-0.029852</td>\n",
       "      <td>-0.028505</td>\n",
       "      <td>-0.049592</td>\n",
       "      <td>0.001859</td>\n",
       "      <td>0.008891</td>\n",
       "      <td>0.169046</td>\n",
       "      <td>-0.022655</td>\n",
       "      <td>1.000000</td>\n",
       "      <td>0.129179</td>\n",
       "      <td>0.046957</td>\n",
       "      <td>0.009295</td>\n",
       "      <td>-0.029413</td>\n",
       "      <td>0.134569</td>\n",
       "      <td>0.028370</td>\n",
       "      <td>-0.050403</td>\n",
       "    </tr>\n",
       "    <tr>\n",
       "      <th>median_age</th>\n",
       "      <td>0.121912</td>\n",
       "      <td>0.141840</td>\n",
       "      <td>0.134884</td>\n",
       "      <td>-0.004501</td>\n",
       "      <td>0.557600</td>\n",
       "      <td>-0.580764</td>\n",
       "      <td>0.167139</td>\n",
       "      <td>0.129179</td>\n",
       "      <td>1.000000</td>\n",
       "      <td>0.902705</td>\n",
       "      <td>0.897921</td>\n",
       "      <td>0.680961</td>\n",
       "      <td>0.883538</td>\n",
       "      <td>0.501273</td>\n",
       "      <td>0.109852</td>\n",
       "    </tr>\n",
       "    <tr>\n",
       "      <th>aged_65_older%</th>\n",
       "      <td>0.122395</td>\n",
       "      <td>0.141278</td>\n",
       "      <td>0.136220</td>\n",
       "      <td>-0.039682</td>\n",
       "      <td>0.477332</td>\n",
       "      <td>-0.648722</td>\n",
       "      <td>0.121833</td>\n",
       "      <td>0.046957</td>\n",
       "      <td>0.902705</td>\n",
       "      <td>1.000000</td>\n",
       "      <td>0.989461</td>\n",
       "      <td>0.667097</td>\n",
       "      <td>0.752324</td>\n",
       "      <td>0.498962</td>\n",
       "      <td>0.088093</td>\n",
       "    </tr>\n",
       "    <tr>\n",
       "      <th>aged_70_older%</th>\n",
       "      <td>0.115775</td>\n",
       "      <td>0.134582</td>\n",
       "      <td>0.127941</td>\n",
       "      <td>-0.064032</td>\n",
       "      <td>0.493149</td>\n",
       "      <td>-0.653905</td>\n",
       "      <td>0.104258</td>\n",
       "      <td>0.009295</td>\n",
       "      <td>0.897921</td>\n",
       "      <td>0.989461</td>\n",
       "      <td>1.000000</td>\n",
       "      <td>0.676538</td>\n",
       "      <td>0.746236</td>\n",
       "      <td>0.492450</td>\n",
       "      <td>0.073006</td>\n",
       "    </tr>\n",
       "    <tr>\n",
       "      <th>hospital_beds_per_thousand</th>\n",
       "      <td>0.007701</td>\n",
       "      <td>0.019697</td>\n",
       "      <td>-0.010629</td>\n",
       "      <td>-0.049421</td>\n",
       "      <td>0.325923</td>\n",
       "      <td>-0.609560</td>\n",
       "      <td>0.076757</td>\n",
       "      <td>-0.029413</td>\n",
       "      <td>0.680961</td>\n",
       "      <td>0.667097</td>\n",
       "      <td>0.676538</td>\n",
       "      <td>1.000000</td>\n",
       "      <td>0.543470</td>\n",
       "      <td>0.461704</td>\n",
       "      <td>0.036544</td>\n",
       "    </tr>\n",
       "    <tr>\n",
       "      <th>human_development_index</th>\n",
       "      <td>0.139474</td>\n",
       "      <td>0.152931</td>\n",
       "      <td>0.164009</td>\n",
       "      <td>-0.081750</td>\n",
       "      <td>0.588644</td>\n",
       "      <td>-0.520181</td>\n",
       "      <td>0.148382</td>\n",
       "      <td>0.134569</td>\n",
       "      <td>0.883538</td>\n",
       "      <td>0.752324</td>\n",
       "      <td>0.746236</td>\n",
       "      <td>0.543470</td>\n",
       "      <td>1.000000</td>\n",
       "      <td>0.357212</td>\n",
       "      <td>0.107611</td>\n",
       "    </tr>\n",
       "    <tr>\n",
       "      <th>Tobacco use (% of adults)</th>\n",
       "      <td>0.097584</td>\n",
       "      <td>0.122904</td>\n",
       "      <td>0.056227</td>\n",
       "      <td>0.127654</td>\n",
       "      <td>0.313421</td>\n",
       "      <td>-0.418850</td>\n",
       "      <td>0.101924</td>\n",
       "      <td>0.028370</td>\n",
       "      <td>0.501273</td>\n",
       "      <td>0.498962</td>\n",
       "      <td>0.492450</td>\n",
       "      <td>0.461704</td>\n",
       "      <td>0.357212</td>\n",
       "      <td>1.000000</td>\n",
       "      <td>0.105568</td>\n",
       "    </tr>\n",
       "    <tr>\n",
       "      <th>Total_deaths_2021</th>\n",
       "      <td>0.896231</td>\n",
       "      <td>0.906475</td>\n",
       "      <td>0.928382</td>\n",
       "      <td>0.437151</td>\n",
       "      <td>0.175748</td>\n",
       "      <td>-0.061437</td>\n",
       "      <td>0.483714</td>\n",
       "      <td>-0.050403</td>\n",
       "      <td>0.109852</td>\n",
       "      <td>0.088093</td>\n",
       "      <td>0.073006</td>\n",
       "      <td>0.036544</td>\n",
       "      <td>0.107611</td>\n",
       "      <td>0.105568</td>\n",
       "      <td>1.000000</td>\n",
       "    </tr>\n",
       "  </tbody>\n",
       "</table>\n",
       "</div>"
      ],
      "text/plain": [
       "                                Total_Cases2020  Total_Cases2021  \\\n",
       "Total_Cases2020                        1.000000         0.989052   \n",
       "Total_Cases2021                        0.989052         1.000000   \n",
       "Total_deaths_2020                      0.939482         0.933427   \n",
       "Population                             0.429960         0.469862   \n",
       "%Infection_of_Total_Population         0.241382         0.224847   \n",
       "Averager_yearly_temperature           -0.093102        -0.096500   \n",
       "Airline_Passengers                     0.603128         0.577975   \n",
       "population_density                    -0.029852        -0.028505   \n",
       "median_age                             0.121912         0.141840   \n",
       "aged_65_older%                         0.122395         0.141278   \n",
       "aged_70_older%                         0.115775         0.134582   \n",
       "hospital_beds_per_thousand             0.007701         0.019697   \n",
       "human_development_index                0.139474         0.152931   \n",
       "Tobacco use (% of adults)              0.097584         0.122904   \n",
       "Total_deaths_2021                      0.896231         0.906475   \n",
       "\n",
       "                                Total_deaths_2020  Population  \\\n",
       "Total_Cases2020                          0.939482    0.429960   \n",
       "Total_Cases2021                          0.933427    0.469862   \n",
       "Total_deaths_2020                        1.000000    0.364550   \n",
       "Population                               0.364550    1.000000   \n",
       "%Infection_of_Total_Population           0.252309   -0.132619   \n",
       "Averager_yearly_temperature             -0.087244   -0.010982   \n",
       "Airline_Passengers                       0.551962    0.685080   \n",
       "population_density                      -0.049592    0.001859   \n",
       "median_age                               0.134884   -0.004501   \n",
       "aged_65_older%                           0.136220   -0.039682   \n",
       "aged_70_older%                           0.127941   -0.064032   \n",
       "hospital_beds_per_thousand              -0.010629   -0.049421   \n",
       "human_development_index                  0.164009   -0.081750   \n",
       "Tobacco use (% of adults)                0.056227    0.127654   \n",
       "Total_deaths_2021                        0.928382    0.437151   \n",
       "\n",
       "                                %Infection_of_Total_Population  \\\n",
       "Total_Cases2020                                       0.241382   \n",
       "Total_Cases2021                                       0.224847   \n",
       "Total_deaths_2020                                     0.252309   \n",
       "Population                                           -0.132619   \n",
       "%Infection_of_Total_Population                        1.000000   \n",
       "Averager_yearly_temperature                          -0.347186   \n",
       "Airline_Passengers                                    0.057405   \n",
       "population_density                                    0.008891   \n",
       "median_age                                            0.557600   \n",
       "aged_65_older%                                        0.477332   \n",
       "aged_70_older%                                        0.493149   \n",
       "hospital_beds_per_thousand                            0.325923   \n",
       "human_development_index                               0.588644   \n",
       "Tobacco use (% of adults)                             0.313421   \n",
       "Total_deaths_2021                                     0.175748   \n",
       "\n",
       "                                Averager_yearly_temperature  \\\n",
       "Total_Cases2020                                   -0.093102   \n",
       "Total_Cases2021                                   -0.096500   \n",
       "Total_deaths_2020                                 -0.087244   \n",
       "Population                                        -0.010982   \n",
       "%Infection_of_Total_Population                    -0.347186   \n",
       "Averager_yearly_temperature                        1.000000   \n",
       "Airline_Passengers                                -0.181404   \n",
       "population_density                                 0.169046   \n",
       "median_age                                        -0.580764   \n",
       "aged_65_older%                                    -0.648722   \n",
       "aged_70_older%                                    -0.653905   \n",
       "hospital_beds_per_thousand                        -0.609560   \n",
       "human_development_index                           -0.520181   \n",
       "Tobacco use (% of adults)                         -0.418850   \n",
       "Total_deaths_2021                                 -0.061437   \n",
       "\n",
       "                                Airline_Passengers  population_density  \\\n",
       "Total_Cases2020                           0.603128           -0.029852   \n",
       "Total_Cases2021                           0.577975           -0.028505   \n",
       "Total_deaths_2020                         0.551962           -0.049592   \n",
       "Population                                0.685080            0.001859   \n",
       "%Infection_of_Total_Population            0.057405            0.008891   \n",
       "Averager_yearly_temperature              -0.181404            0.169046   \n",
       "Airline_Passengers                        1.000000           -0.022655   \n",
       "population_density                       -0.022655            1.000000   \n",
       "median_age                                0.167139            0.129179   \n",
       "aged_65_older%                            0.121833            0.046957   \n",
       "aged_70_older%                            0.104258            0.009295   \n",
       "hospital_beds_per_thousand                0.076757           -0.029413   \n",
       "human_development_index                   0.148382            0.134569   \n",
       "Tobacco use (% of adults)                 0.101924            0.028370   \n",
       "Total_deaths_2021                         0.483714           -0.050403   \n",
       "\n",
       "                                median_age  aged_65_older%  aged_70_older%  \\\n",
       "Total_Cases2020                   0.121912        0.122395        0.115775   \n",
       "Total_Cases2021                   0.141840        0.141278        0.134582   \n",
       "Total_deaths_2020                 0.134884        0.136220        0.127941   \n",
       "Population                       -0.004501       -0.039682       -0.064032   \n",
       "%Infection_of_Total_Population    0.557600        0.477332        0.493149   \n",
       "Averager_yearly_temperature      -0.580764       -0.648722       -0.653905   \n",
       "Airline_Passengers                0.167139        0.121833        0.104258   \n",
       "population_density                0.129179        0.046957        0.009295   \n",
       "median_age                        1.000000        0.902705        0.897921   \n",
       "aged_65_older%                    0.902705        1.000000        0.989461   \n",
       "aged_70_older%                    0.897921        0.989461        1.000000   \n",
       "hospital_beds_per_thousand        0.680961        0.667097        0.676538   \n",
       "human_development_index           0.883538        0.752324        0.746236   \n",
       "Tobacco use (% of adults)         0.501273        0.498962        0.492450   \n",
       "Total_deaths_2021                 0.109852        0.088093        0.073006   \n",
       "\n",
       "                                hospital_beds_per_thousand  \\\n",
       "Total_Cases2020                                   0.007701   \n",
       "Total_Cases2021                                   0.019697   \n",
       "Total_deaths_2020                                -0.010629   \n",
       "Population                                       -0.049421   \n",
       "%Infection_of_Total_Population                    0.325923   \n",
       "Averager_yearly_temperature                      -0.609560   \n",
       "Airline_Passengers                                0.076757   \n",
       "population_density                               -0.029413   \n",
       "median_age                                        0.680961   \n",
       "aged_65_older%                                    0.667097   \n",
       "aged_70_older%                                    0.676538   \n",
       "hospital_beds_per_thousand                        1.000000   \n",
       "human_development_index                           0.543470   \n",
       "Tobacco use (% of adults)                         0.461704   \n",
       "Total_deaths_2021                                 0.036544   \n",
       "\n",
       "                                human_development_index  \\\n",
       "Total_Cases2020                                0.139474   \n",
       "Total_Cases2021                                0.152931   \n",
       "Total_deaths_2020                              0.164009   \n",
       "Population                                    -0.081750   \n",
       "%Infection_of_Total_Population                 0.588644   \n",
       "Averager_yearly_temperature                   -0.520181   \n",
       "Airline_Passengers                             0.148382   \n",
       "population_density                             0.134569   \n",
       "median_age                                     0.883538   \n",
       "aged_65_older%                                 0.752324   \n",
       "aged_70_older%                                 0.746236   \n",
       "hospital_beds_per_thousand                     0.543470   \n",
       "human_development_index                        1.000000   \n",
       "Tobacco use (% of adults)                      0.357212   \n",
       "Total_deaths_2021                              0.107611   \n",
       "\n",
       "                                Tobacco use (% of adults)  Total_deaths_2021  \n",
       "Total_Cases2020                                  0.097584           0.896231  \n",
       "Total_Cases2021                                  0.122904           0.906475  \n",
       "Total_deaths_2020                                0.056227           0.928382  \n",
       "Population                                       0.127654           0.437151  \n",
       "%Infection_of_Total_Population                   0.313421           0.175748  \n",
       "Averager_yearly_temperature                     -0.418850          -0.061437  \n",
       "Airline_Passengers                               0.101924           0.483714  \n",
       "population_density                               0.028370          -0.050403  \n",
       "median_age                                       0.501273           0.109852  \n",
       "aged_65_older%                                   0.498962           0.088093  \n",
       "aged_70_older%                                   0.492450           0.073006  \n",
       "hospital_beds_per_thousand                       0.461704           0.036544  \n",
       "human_development_index                          0.357212           0.107611  \n",
       "Tobacco use (% of adults)                        1.000000           0.105568  \n",
       "Total_deaths_2021                                0.105568           1.000000  "
      ]
     },
     "execution_count": 34,
     "metadata": {},
     "output_type": "execute_result"
    }
   ],
   "source": [
    "corr_matrix = df.corr()\n",
    "corr_matrix"
   ]
  },
  {
   "cell_type": "code",
   "execution_count": 35,
   "id": "729b6db5",
   "metadata": {},
   "outputs": [
    {
     "data": {
      "image/png": "[encoded data removed]",
      "text/plain": [
       "<Figure size 1152x720 with 2 Axes>"
      ]
     },
     "metadata": {
      "needs_background": "light"
     },
     "output_type": "display_data"
    }
   ],
   "source": [
    "plt.figure(figsize=(16,10))\n",
    "plt.title('Correlation of Attributes for Infection')\n",
    "a = sns.heatmap(corr_matrix, square=True, annot=True, fmt='.2f', linecolor='white')\n",
    "a.set_xticklabels(a.get_xticklabels(), rotation=90)\n",
    "a.set_yticklabels(a.get_yticklabels(), rotation=30)           \n",
    "plt.show()"
   ]
  },
  {
   "cell_type": "markdown",
   "id": "e98856b4",
   "metadata": {},
   "source": [
    "## Data preprocessing"
   ]
  },
  {
   "cell_type": "code",
   "execution_count": 36,
   "id": "5f221069",
   "metadata": {
    "scrolled": false
   },
   "outputs": [
    {
     "data": {
      "text/html": [
       "<div>\n",
       "<style scoped>\n",
       "    .dataframe tbody tr th:only-of-type {\n",
       "        vertical-align: middle;\n",
       "    }\n",
       "\n",
       "    .dataframe tbody tr th {\n",
       "        vertical-align: top;\n",
       "    }\n",
       "\n",
       "    .dataframe thead th {\n",
       "        text-align: right;\n",
       "    }\n",
       "</style>\n",
       "<table border=\"1\" class=\"dataframe\">\n",
       "  <thead>\n",
       "    <tr style=\"text-align: right;\">\n",
       "      <th></th>\n",
       "      <th>Total_Cases2020</th>\n",
       "      <th>Total_Cases2021</th>\n",
       "      <th>Total_deaths_2020</th>\n",
       "      <th>Population</th>\n",
       "      <th>%Infection_of_Total_Population</th>\n",
       "      <th>Averager_yearly_temperature</th>\n",
       "      <th>Airline_Passengers</th>\n",
       "      <th>population_density</th>\n",
       "      <th>median_age</th>\n",
       "      <th>aged_65_older%</th>\n",
       "      <th>aged_70_older%</th>\n",
       "      <th>hospital_beds_per_thousand</th>\n",
       "      <th>human_development_index</th>\n",
       "      <th>Tobacco use (% of adults)</th>\n",
       "      <th>Total_deaths_2021</th>\n",
       "    </tr>\n",
       "  </thead>\n",
       "  <tbody>\n",
       "    <tr>\n",
       "      <th>0</th>\n",
       "      <td>20217056</td>\n",
       "      <td>54904270</td>\n",
       "      <td>350555</td>\n",
       "      <td>331501080</td>\n",
       "      <td>0.0610</td>\n",
       "      <td>10.00</td>\n",
       "      <td>369500000</td>\n",
       "      <td>35.61</td>\n",
       "      <td>38.3</td>\n",
       "      <td>0.15</td>\n",
       "      <td>0.10</td>\n",
       "      <td>2.77</td>\n",
       "      <td>0.93</td>\n",
       "      <td>0.230</td>\n",
       "      <td>475059</td>\n",
       "    </tr>\n",
       "    <tr>\n",
       "      <th>1</th>\n",
       "      <td>7681032</td>\n",
       "      <td>22291839</td>\n",
       "      <td>195072</td>\n",
       "      <td>213196304</td>\n",
       "      <td>0.0360</td>\n",
       "      <td>25.93</td>\n",
       "      <td>45410000</td>\n",
       "      <td>25.04</td>\n",
       "      <td>33.5</td>\n",
       "      <td>0.09</td>\n",
       "      <td>0.05</td>\n",
       "      <td>2.20</td>\n",
       "      <td>0.77</td>\n",
       "      <td>0.128</td>\n",
       "      <td>424262</td>\n",
       "    </tr>\n",
       "    <tr>\n",
       "      <th>2</th>\n",
       "      <td>10286709</td>\n",
       "      <td>34861579</td>\n",
       "      <td>148994</td>\n",
       "      <td>1396387127</td>\n",
       "      <td>0.0074</td>\n",
       "      <td>24.80</td>\n",
       "      <td>68960000</td>\n",
       "      <td>450.42</td>\n",
       "      <td>28.2</td>\n",
       "      <td>0.06</td>\n",
       "      <td>0.03</td>\n",
       "      <td>0.53</td>\n",
       "      <td>0.65</td>\n",
       "      <td>0.270</td>\n",
       "      <td>332492</td>\n",
       "    </tr>\n",
       "    <tr>\n",
       "      <th>3</th>\n",
       "      <td>3127347</td>\n",
       "      <td>10320405</td>\n",
       "      <td>56271</td>\n",
       "      <td>144073139</td>\n",
       "      <td>0.0217</td>\n",
       "      <td>-1.72</td>\n",
       "      <td>62450000</td>\n",
       "      <td>8.82</td>\n",
       "      <td>39.6</td>\n",
       "      <td>0.14</td>\n",
       "      <td>0.09</td>\n",
       "      <td>8.05</td>\n",
       "      <td>0.82</td>\n",
       "      <td>0.268</td>\n",
       "      <td>246400</td>\n",
       "    </tr>\n",
       "    <tr>\n",
       "      <th>4</th>\n",
       "      <td>1426094</td>\n",
       "      <td>3979723</td>\n",
       "      <td>125807</td>\n",
       "      <td>125998302</td>\n",
       "      <td>0.0113</td>\n",
       "      <td>22.08</td>\n",
       "      <td>34130000</td>\n",
       "      <td>66.44</td>\n",
       "      <td>29.3</td>\n",
       "      <td>0.07</td>\n",
       "      <td>0.04</td>\n",
       "      <td>1.38</td>\n",
       "      <td>0.78</td>\n",
       "      <td>0.131</td>\n",
       "      <td>173621</td>\n",
       "    </tr>\n",
       "  </tbody>\n",
       "</table>\n",
       "</div>"
      ],
      "text/plain": [
       "   Total_Cases2020  Total_Cases2021  Total_deaths_2020  Population  \\\n",
       "0         20217056         54904270             350555   331501080   \n",
       "1          7681032         22291839             195072   213196304   \n",
       "2         10286709         34861579             148994  1396387127   \n",
       "3          3127347         10320405              56271   144073139   \n",
       "4          1426094          3979723             125807   125998302   \n",
       "\n",
       "   %Infection_of_Total_Population  Averager_yearly_temperature  \\\n",
       "0                          0.0610                        10.00   \n",
       "1                          0.0360                        25.93   \n",
       "2                          0.0074                        24.80   \n",
       "3                          0.0217                        -1.72   \n",
       "4                          0.0113                        22.08   \n",
       "\n",
       "   Airline_Passengers  population_density  median_age  aged_65_older%  \\\n",
       "0           369500000               35.61        38.3            0.15   \n",
       "1            45410000               25.04        33.5            0.09   \n",
       "2            68960000              450.42        28.2            0.06   \n",
       "3            62450000                8.82        39.6            0.14   \n",
       "4            34130000               66.44        29.3            0.07   \n",
       "\n",
       "   aged_70_older%  hospital_beds_per_thousand  human_development_index  \\\n",
       "0            0.10                        2.77                     0.93   \n",
       "1            0.05                        2.20                     0.77   \n",
       "2            0.03                        0.53                     0.65   \n",
       "3            0.09                        8.05                     0.82   \n",
       "4            0.04                        1.38                     0.78   \n",
       "\n",
       "   Tobacco use (% of adults)  Total_deaths_2021  \n",
       "0                      0.230             475059  \n",
       "1                      0.128             424262  \n",
       "2                      0.270             332492  \n",
       "3                      0.268             246400  \n",
       "4                      0.131             173621  "
      ]
     },
     "execution_count": 36,
     "metadata": {},
     "output_type": "execute_result"
    }
   ],
   "source": [
    "df_model = df.copy()\n",
    "df_model = df_model.drop(['Country'], axis = 1)\n",
    "df_model.head()"
   ]
  },
  {
   "cell_type": "code",
   "execution_count": 37,
   "id": "86fb7e84",
   "metadata": {},
   "outputs": [
    {
     "name": "stdout",
     "output_type": "stream",
     "text": [
      "['Country', 'Total_Cases2020', 'Total_Cases2021', 'Total_deaths_2020', 'Population', '%Infection_of_Total_Population', 'Averager_yearly_temperature', 'Airline_Passengers', 'population_density', 'median_age', 'aged_65_older%', 'aged_70_older%', 'hospital_beds_per_thousand', 'human_development_index', 'Tobacco use (% of adults)', 'Total_deaths_2021']\n"
     ]
    }
   ],
   "source": [
    "encoded = list(df.columns)\n",
    "print (encoded)"
   ]
  },
  {
   "cell_type": "code",
   "execution_count": 38,
   "id": "564db5bc",
   "metadata": {},
   "outputs": [
    {
     "data": {
      "text/html": [
       "<div>\n",
       "<style scoped>\n",
       "    .dataframe tbody tr th:only-of-type {\n",
       "        vertical-align: middle;\n",
       "    }\n",
       "\n",
       "    .dataframe tbody tr th {\n",
       "        vertical-align: top;\n",
       "    }\n",
       "\n",
       "    .dataframe thead th {\n",
       "        text-align: right;\n",
       "    }\n",
       "</style>\n",
       "<table border=\"1\" class=\"dataframe\">\n",
       "  <thead>\n",
       "    <tr style=\"text-align: right;\">\n",
       "      <th></th>\n",
       "      <th>Total_Cases2020</th>\n",
       "      <th>Total_deaths_2020</th>\n",
       "      <th>Population</th>\n",
       "      <th>%Infection_of_Total_Population</th>\n",
       "      <th>Averager_yearly_temperature</th>\n",
       "      <th>Airline_Passengers</th>\n",
       "      <th>population_density</th>\n",
       "      <th>median_age</th>\n",
       "      <th>aged_65_older%</th>\n",
       "      <th>aged_70_older%</th>\n",
       "      <th>hospital_beds_per_thousand</th>\n",
       "      <th>human_development_index</th>\n",
       "      <th>Tobacco use (% of adults)</th>\n",
       "    </tr>\n",
       "  </thead>\n",
       "  <tbody>\n",
       "    <tr>\n",
       "      <th>0</th>\n",
       "      <td>20217056</td>\n",
       "      <td>350555</td>\n",
       "      <td>331501080</td>\n",
       "      <td>0.0610</td>\n",
       "      <td>10.00</td>\n",
       "      <td>369500000</td>\n",
       "      <td>35.61</td>\n",
       "      <td>38.3</td>\n",
       "      <td>0.15</td>\n",
       "      <td>0.10</td>\n",
       "      <td>2.77</td>\n",
       "      <td>0.93</td>\n",
       "      <td>0.230</td>\n",
       "    </tr>\n",
       "    <tr>\n",
       "      <th>1</th>\n",
       "      <td>7681032</td>\n",
       "      <td>195072</td>\n",
       "      <td>213196304</td>\n",
       "      <td>0.0360</td>\n",
       "      <td>25.93</td>\n",
       "      <td>45410000</td>\n",
       "      <td>25.04</td>\n",
       "      <td>33.5</td>\n",
       "      <td>0.09</td>\n",
       "      <td>0.05</td>\n",
       "      <td>2.20</td>\n",
       "      <td>0.77</td>\n",
       "      <td>0.128</td>\n",
       "    </tr>\n",
       "    <tr>\n",
       "      <th>2</th>\n",
       "      <td>10286709</td>\n",
       "      <td>148994</td>\n",
       "      <td>1396387127</td>\n",
       "      <td>0.0074</td>\n",
       "      <td>24.80</td>\n",
       "      <td>68960000</td>\n",
       "      <td>450.42</td>\n",
       "      <td>28.2</td>\n",
       "      <td>0.06</td>\n",
       "      <td>0.03</td>\n",
       "      <td>0.53</td>\n",
       "      <td>0.65</td>\n",
       "      <td>0.270</td>\n",
       "    </tr>\n",
       "    <tr>\n",
       "      <th>3</th>\n",
       "      <td>3127347</td>\n",
       "      <td>56271</td>\n",
       "      <td>144073139</td>\n",
       "      <td>0.0217</td>\n",
       "      <td>-1.72</td>\n",
       "      <td>62450000</td>\n",
       "      <td>8.82</td>\n",
       "      <td>39.6</td>\n",
       "      <td>0.14</td>\n",
       "      <td>0.09</td>\n",
       "      <td>8.05</td>\n",
       "      <td>0.82</td>\n",
       "      <td>0.268</td>\n",
       "    </tr>\n",
       "    <tr>\n",
       "      <th>4</th>\n",
       "      <td>1426094</td>\n",
       "      <td>125807</td>\n",
       "      <td>125998302</td>\n",
       "      <td>0.0113</td>\n",
       "      <td>22.08</td>\n",
       "      <td>34130000</td>\n",
       "      <td>66.44</td>\n",
       "      <td>29.3</td>\n",
       "      <td>0.07</td>\n",
       "      <td>0.04</td>\n",
       "      <td>1.38</td>\n",
       "      <td>0.78</td>\n",
       "      <td>0.131</td>\n",
       "    </tr>\n",
       "  </tbody>\n",
       "</table>\n",
       "</div>"
      ],
      "text/plain": [
       "   Total_Cases2020  Total_deaths_2020  Population  \\\n",
       "0         20217056             350555   331501080   \n",
       "1          7681032             195072   213196304   \n",
       "2         10286709             148994  1396387127   \n",
       "3          3127347              56271   144073139   \n",
       "4          1426094             125807   125998302   \n",
       "\n",
       "   %Infection_of_Total_Population  Averager_yearly_temperature  \\\n",
       "0                          0.0610                        10.00   \n",
       "1                          0.0360                        25.93   \n",
       "2                          0.0074                        24.80   \n",
       "3                          0.0217                        -1.72   \n",
       "4                          0.0113                        22.08   \n",
       "\n",
       "   Airline_Passengers  population_density  median_age  aged_65_older%  \\\n",
       "0           369500000               35.61        38.3            0.15   \n",
       "1            45410000               25.04        33.5            0.09   \n",
       "2            68960000              450.42        28.2            0.06   \n",
       "3            62450000                8.82        39.6            0.14   \n",
       "4            34130000               66.44        29.3            0.07   \n",
       "\n",
       "   aged_70_older%  hospital_beds_per_thousand  human_development_index  \\\n",
       "0            0.10                        2.77                     0.93   \n",
       "1            0.05                        2.20                     0.77   \n",
       "2            0.03                        0.53                     0.65   \n",
       "3            0.09                        8.05                     0.82   \n",
       "4            0.04                        1.38                     0.78   \n",
       "\n",
       "   Tobacco use (% of adults)  \n",
       "0                      0.230  \n",
       "1                      0.128  \n",
       "2                      0.270  \n",
       "3                      0.268  \n",
       "4                      0.131  "
      ]
     },
     "execution_count": 38,
     "metadata": {},
     "output_type": "execute_result"
    }
   ],
   "source": [
    "features_raw = df_model.drop(['Total_deaths_2021','Total_Cases2021'], axis = 1)\n",
    "deaths_2021 = df_model['Total_deaths_2021']\n",
    "features_raw.head()"
   ]
  },
  {
   "cell_type": "code",
   "execution_count": 39,
   "id": "edaf9466",
   "metadata": {},
   "outputs": [],
   "source": [
    "from sklearn.model_selection import train_test_split\n",
    "\n",
    "X_train, X_test, y_train, y_test = train_test_split(features_raw,deaths_2021,test_size = 0.3,random_state = 0)"
   ]
  },
  {
   "cell_type": "markdown",
   "id": "ebcf79e2",
   "metadata": {},
   "source": [
    "### Feature Scaling"
   ]
  },
  {
   "cell_type": "code",
   "execution_count": 40,
   "id": "b28ddd59",
   "metadata": {},
   "outputs": [],
   "source": [
    "# import the StandardScaler class from preprocessing library\n",
    "from sklearn.preprocessing import StandardScaler\n",
    "\n",
    "# instantiate an object scaler\n",
    "scaler = StandardScaler()\n",
    "\n",
    "# fit the scaler to the training set and then transform it\n",
    "X_train = scaler.fit_transform(X_train)\n",
    "\n",
    "# transform the test set\n",
    "X_test = scaler.transform(X_test)\n"
   ]
  },
  {
   "cell_type": "markdown",
   "id": "c5b1d02d",
   "metadata": {},
   "source": [
    "## Machine Learning Models"
   ]
  },
  {
   "cell_type": "markdown",
   "id": "eae186a4",
   "metadata": {},
   "source": [
    "### Model-1: Linear Regression model"
   ]
  },
  {
   "cell_type": "code",
   "execution_count": 41,
   "id": "6bc2fa8e",
   "metadata": {},
   "outputs": [
    {
     "name": "stdout",
     "output_type": "stream",
     "text": [
      "Training set has 80 samples.\n",
      "Testing set has 35 samples.\n"
     ]
    }
   ],
   "source": [
    "from sklearn.linear_model import LinearRegression\n",
    "\n",
    "\n",
    "\n",
    "# instantiate an object lr\n",
    "lr = LinearRegression()\n",
    "# Train the model using the training sets\n",
    "lr.fit(X_train, y_train)\n",
    "\n",
    "print(\"Training set has {} samples.\".format(X_train.shape[0]))\n",
    "print(\"Testing set has {} samples.\".format(X_test.shape[0]))"
   ]
  },
  {
   "cell_type": "code",
   "execution_count": 42,
   "id": "b5714562",
   "metadata": {},
   "outputs": [],
   "source": [
    "y_pred = lr.predict(X_test)"
   ]
  },
  {
   "cell_type": "code",
   "execution_count": 43,
   "id": "c4063b62",
   "metadata": {},
   "outputs": [
    {
     "name": "stdout",
     "output_type": "stream",
     "text": [
      "Train Results for Linear Regression:\n",
      "*******************************\n",
      "R-squared:  0.5835600232316437\n",
      "Mean squared error:  2041593739.7094233\n",
      "Mean Absolute Error:  20696.813804141177\n"
     ]
    }
   ],
   "source": [
    "print(\"Train Results for Linear Regression:\")\n",
    "print(\"*******************************\")\n",
    "print(\"R-squared: \", rs(y_test, y_pred))\n",
    "print(\"Mean squared error: \", mse(y_test, y_pred))\n",
    "print(\"Mean Absolute Error: \", mae(y_test, y_pred))"
   ]
  },
  {
   "cell_type": "markdown",
   "id": "7cb11008",
   "metadata": {},
   "source": [
    "### Model-2 Ridge Regression\n"
   ]
  },
  {
   "cell_type": "code",
   "execution_count": 44,
   "id": "847fb1ea",
   "metadata": {},
   "outputs": [],
   "source": [
    "# to perform hyperparameter tuning\n",
    "from sklearn.model_selection import GridSearchCV\n",
    "from sklearn.model_selection import RandomizedSearchCV\n",
    "# import the model\n",
    "from sklearn.linear_model import Ridge\n",
    "\n",
    "tuned_params_ridge = {'alpha': [0.0001, 0.001, 0.01, 0.1, 1, 10, 100, 1000, 10000, 100000]}\n",
    "model_ridge = GridSearchCV(Ridge(), tuned_params_ridge, scoring = 'neg_mean_absolute_error', cv=10, n_jobs=-1)\n",
    "model_ridge.fit(X_train, y_train)\n",
    "y_pred_ridge = model_ridge.predict(X_test)"
   ]
  },
  {
   "cell_type": "code",
   "execution_count": 45,
   "id": "a703ba0f",
   "metadata": {},
   "outputs": [
    {
     "data": {
      "text/plain": [
       "Ridge(alpha=10)"
      ]
     },
     "execution_count": 45,
     "metadata": {},
     "output_type": "execute_result"
    }
   ],
   "source": [
    "model_ridge.best_estimator_"
   ]
  },
  {
   "cell_type": "code",
   "execution_count": 46,
   "id": "c2164170",
   "metadata": {},
   "outputs": [
    {
     "name": "stdout",
     "output_type": "stream",
     "text": [
      "Train Results for Ridge Regression:\n",
      "*******************************\n",
      "R-squared:  0.7805123667192013\n",
      "Mean squared error:  1076036411.1223965\n",
      "Mean Absolute Error:  15503.085232832984\n"
     ]
    }
   ],
   "source": [
    "print(\"Train Results for Ridge Regression:\")\n",
    "print(\"*******************************\")\n",
    "print(\"R-squared: \", rs(y_test, y_pred_ridge))\n",
    "print(\"Mean squared error: \", mse(y_test, y_pred_ridge))\n",
    "print(\"Mean Absolute Error: \", mae(y_test, y_pred_ridge))"
   ]
  },
  {
   "cell_type": "markdown",
   "id": "d94a32e5",
   "metadata": {},
   "source": [
    "### Model-3 Decision Tree Regressor"
   ]
  },
  {
   "cell_type": "code",
   "execution_count": 47,
   "id": "50acbb96",
   "metadata": {},
   "outputs": [],
   "source": [
    "from sklearn.tree import DecisionTreeRegressor\n",
    "\n",
    "# Build decision tree\n",
    "tree=DecisionTreeRegressor(max_depth=8, random_state=0)\n",
    "tree.fit(X_train,y_train)\n",
    "y_pred_tree = tree.predict(X_test)"
   ]
  },
  {
   "cell_type": "code",
   "execution_count": 48,
   "id": "5ac24f1f",
   "metadata": {},
   "outputs": [
    {
     "name": "stdout",
     "output_type": "stream",
     "text": [
      "Train Results for Decision Tree:\n",
      "*******************************\n",
      "R-squared:  0.805905569740162\n",
      "Mean squared error:  951546431.2672659\n",
      "Mean Absolute Error:  15227.43537414966\n"
     ]
    }
   ],
   "source": [
    "print(\"Train Results for Decision Tree:\")\n",
    "print(\"*******************************\")\n",
    "print(\"R-squared: \", rs(y_test, y_pred_tree))\n",
    "print(\"Mean squared error: \", mse(y_test, y_pred_tree))\n",
    "print(\"Mean Absolute Error: \", mae(y_test, y_pred_tree))"
   ]
  },
  {
   "cell_type": "code",
   "execution_count": 49,
   "id": "cff49551",
   "metadata": {},
   "outputs": [
    {
     "name": "stdout",
     "output_type": "stream",
     "text": [
      "The features in order of importance for decision tree are:\n",
      "--------------------------------------------------\n",
      "Total_Cases2020\n",
      "Airline_Passengers\n",
      "Total_deaths_2020\n",
      "%Infection_of_Total_Population\n",
      "Tobacco use (% of adults)\n",
      "Population\n",
      "human_development_index\n",
      "population_density\n",
      "hospital_beds_per_thousand\n",
      "aged_70_older%\n",
      "aged_65_older%\n",
      "Averager_yearly_temperature\n",
      "median_age\n"
     ]
    }
   ],
   "source": [
    "indices_tree = np.argsort(-tree.feature_importances_)\n",
    "print(\"The features in order of importance for decision tree are:\")\n",
    "print(50*'-')\n",
    "for feature in features_raw.columns[indices_tree]:\n",
    "    print(feature)"
   ]
  },
  {
   "cell_type": "markdown",
   "id": "a80e0c99",
   "metadata": {},
   "source": [
    "### Model-4 Random Forest Regressor"
   ]
  },
  {
   "cell_type": "code",
   "execution_count": 50,
   "id": "1efbdf3e",
   "metadata": {},
   "outputs": [],
   "source": [
    "from sklearn.ensemble import RandomForestRegressor\n",
    "\n",
    "\n",
    "tuned_params = {'n_estimators': [100, 200, 300, 400, 500], 'min_samples_split': [2, 5, 10], 'min_samples_leaf': [1, 2, 4]}\n",
    "forest = RandomizedSearchCV(RandomForestRegressor(), tuned_params, n_iter=20, random_state =0, scoring = 'neg_mean_absolute_error', cv=5, n_jobs=-1)\n",
    "forest.fit(X_train, y_train)\n",
    "y_pred_random_forest = forest.predict(X_test)"
   ]
  },
  {
   "cell_type": "code",
   "execution_count": 51,
   "id": "0355c2d9",
   "metadata": {},
   "outputs": [
    {
     "name": "stdout",
     "output_type": "stream",
     "text": [
      "Train Results for Random Forest:\n",
      "*******************************\n",
      "R-squared:  0.788007637901235\n",
      "Mean squared error:  1039290902.582576\n",
      "Mean Absolute Error:  13884.955272529412\n"
     ]
    }
   ],
   "source": [
    "print(\"Train Results for Random Forest:\")\n",
    "print(\"*******************************\")\n",
    "print(\"R-squared: \", rs(y_test, y_pred_random_forest))\n",
    "print(\"Mean squared error: \", mse(y_test, y_pred_random_forest))\n",
    "print(\"Mean Absolute Error: \", mae(y_test, y_pred_random_forest))"
   ]
  },
  {
   "cell_type": "markdown",
   "id": "8ad8802a",
   "metadata": {},
   "source": [
    "### Model-5 XGBoost Regression"
   ]
  },
  {
   "cell_type": "code",
   "execution_count": 52,
   "id": "01978b14",
   "metadata": {},
   "outputs": [],
   "source": [
    "from sklearn.model_selection import GridSearchCV\n",
    "from sklearn.model_selection import RandomizedSearchCV\n",
    "import xgboost as xgb\n",
    "\n",
    "tuned_params = {'max_depth': [1, 2, 3, 4, 5], 'learning_rate': [0.01, 0.05, 0.1], 'n_estimators': [100, 200, 300, 400, 500], 'reg_lambda': [0.001, 0.1, 1.0, 10.0, 100.0]}\n",
    "xgb_model = RandomizedSearchCV(xgb.XGBRegressor(), tuned_params, n_iter=20, scoring = 'neg_mean_absolute_error', cv=5, n_jobs=-1)\n",
    "xgb_model.fit(X_train, y_train)\n",
    "y_pred_xgb = xgb_model.predict(X_test)"
   ]
  },
  {
   "cell_type": "code",
   "execution_count": 53,
   "id": "36ea5429",
   "metadata": {},
   "outputs": [
    {
     "name": "stdout",
     "output_type": "stream",
     "text": [
      "Train Results for Random Forest:\n",
      "*******************************\n",
      "R-squared:  0.7269661463338306\n",
      "Mean squared error:  1338546339.137023\n",
      "Mean Absolute Error:  14783.750653948102\n"
     ]
    }
   ],
   "source": [
    "print(\"Train Results for Random Forest:\")\n",
    "print(\"*******************************\")\n",
    "print(\"R-squared: \", rs(y_test, y_pred_xgb))\n",
    "print(\"Mean squared error: \", mse(y_test, y_pred_xgb))\n",
    "print(\"Mean Absolute Error: \", mae(y_test, y_pred_xgb))"
   ]
  },
  {
   "cell_type": "markdown",
   "id": "e4934e69",
   "metadata": {},
   "source": [
    "### Model-5 Adaboost Regression"
   ]
  },
  {
   "cell_type": "code",
   "execution_count": 54,
   "id": "9930c607",
   "metadata": {},
   "outputs": [],
   "source": [
    "from sklearn.ensemble import AdaBoostRegressor\n",
    "ada_mod = AdaBoostRegressor(DecisionTreeRegressor(max_depth=10), n_estimators=30, random_state=0)\n",
    "ada_mod.fit(X_train,y_train)\n",
    "y_pred_adaboost = ada_mod.predict(X_test)"
   ]
  },
  {
   "cell_type": "code",
   "execution_count": 55,
   "id": "2c0fb927",
   "metadata": {},
   "outputs": [
    {
     "name": "stdout",
     "output_type": "stream",
     "text": [
      "Train Results for adaboost:\n",
      "*******************************\n",
      "R-squared:  0.6186271428207578\n",
      "Mean squared error:  1869677459.2928572\n",
      "Mean Absolute Error:  16953.5\n"
     ]
    }
   ],
   "source": [
    "print(\"Train Results for adaboost:\")\n",
    "print(\"*******************************\")\n",
    "print(\"R-squared: \", rs(y_test, y_pred_adaboost))\n",
    "print(\"Mean squared error: \", mse(y_test, y_pred_adaboost))\n",
    "print(\"Mean Absolute Error: \", mae(y_test, y_pred_adaboost))"
   ]
  },
  {
   "cell_type": "markdown",
   "id": "5f9981b2",
   "metadata": {},
   "source": [
    "## The best model to predict the deaths is Decision Tree regreesor with r2 score: 0.8"
   ]
  },
  {
   "cell_type": "markdown",
   "id": "ce1a441f",
   "metadata": {},
   "source": [
    "## Predict the deaths for 2022 based on the selected model "
   ]
  },
  {
   "cell_type": "code",
   "execution_count": 56,
   "id": "e52ea3ff",
   "metadata": {},
   "outputs": [
    {
     "data": {
      "text/html": [
       "<div>\n",
       "<style scoped>\n",
       "    .dataframe tbody tr th:only-of-type {\n",
       "        vertical-align: middle;\n",
       "    }\n",
       "\n",
       "    .dataframe tbody tr th {\n",
       "        vertical-align: top;\n",
       "    }\n",
       "\n",
       "    .dataframe thead th {\n",
       "        text-align: right;\n",
       "    }\n",
       "</style>\n",
       "<table border=\"1\" class=\"dataframe\">\n",
       "  <thead>\n",
       "    <tr style=\"text-align: right;\">\n",
       "      <th></th>\n",
       "      <th>Country</th>\n",
       "      <th>Total_Cases2021</th>\n",
       "      <th>Total_deaths_2021</th>\n",
       "      <th>Population</th>\n",
       "      <th>%Infection_of_Total_Population</th>\n",
       "      <th>Averager_yearly_temperature</th>\n",
       "      <th>Airline_Passengers</th>\n",
       "      <th>population_density</th>\n",
       "      <th>median_age</th>\n",
       "      <th>aged_65_older%</th>\n",
       "      <th>aged_70_older%</th>\n",
       "      <th>hospital_beds_per_thousand</th>\n",
       "      <th>human_development_index</th>\n",
       "      <th>Tobacco use (% of adults)</th>\n",
       "    </tr>\n",
       "  </thead>\n",
       "  <tbody>\n",
       "    <tr>\n",
       "      <th>0</th>\n",
       "      <td>United States</td>\n",
       "      <td>45876564</td>\n",
       "      <td>475059</td>\n",
       "      <td>331501080</td>\n",
       "      <td>0.0610</td>\n",
       "      <td>10.00</td>\n",
       "      <td>369500000</td>\n",
       "      <td>35.61</td>\n",
       "      <td>38.3</td>\n",
       "      <td>0.15</td>\n",
       "      <td>0.10</td>\n",
       "      <td>2.77</td>\n",
       "      <td>0.93</td>\n",
       "      <td>0.230</td>\n",
       "    </tr>\n",
       "    <tr>\n",
       "      <th>1</th>\n",
       "      <td>Brazil</td>\n",
       "      <td>14039442</td>\n",
       "      <td>424262</td>\n",
       "      <td>213196304</td>\n",
       "      <td>0.0360</td>\n",
       "      <td>25.93</td>\n",
       "      <td>45410000</td>\n",
       "      <td>25.04</td>\n",
       "      <td>33.5</td>\n",
       "      <td>0.09</td>\n",
       "      <td>0.05</td>\n",
       "      <td>2.20</td>\n",
       "      <td>0.77</td>\n",
       "      <td>0.128</td>\n",
       "    </tr>\n",
       "    <tr>\n",
       "      <th>2</th>\n",
       "      <td>India</td>\n",
       "      <td>9818294</td>\n",
       "      <td>332492</td>\n",
       "      <td>1396387127</td>\n",
       "      <td>0.0074</td>\n",
       "      <td>24.80</td>\n",
       "      <td>68960000</td>\n",
       "      <td>450.42</td>\n",
       "      <td>28.2</td>\n",
       "      <td>0.06</td>\n",
       "      <td>0.03</td>\n",
       "      <td>0.53</td>\n",
       "      <td>0.65</td>\n",
       "      <td>0.270</td>\n",
       "    </tr>\n",
       "    <tr>\n",
       "      <th>3</th>\n",
       "      <td>Russia</td>\n",
       "      <td>11170110</td>\n",
       "      <td>246400</td>\n",
       "      <td>144073139</td>\n",
       "      <td>0.0217</td>\n",
       "      <td>-1.72</td>\n",
       "      <td>62450000</td>\n",
       "      <td>8.82</td>\n",
       "      <td>39.6</td>\n",
       "      <td>0.14</td>\n",
       "      <td>0.09</td>\n",
       "      <td>8.05</td>\n",
       "      <td>0.82</td>\n",
       "      <td>0.268</td>\n",
       "    </tr>\n",
       "    <tr>\n",
       "      <th>4</th>\n",
       "      <td>Mexico</td>\n",
       "      <td>3254744</td>\n",
       "      <td>173621</td>\n",
       "      <td>125998302</td>\n",
       "      <td>0.0113</td>\n",
       "      <td>22.08</td>\n",
       "      <td>34130000</td>\n",
       "      <td>66.44</td>\n",
       "      <td>29.3</td>\n",
       "      <td>0.07</td>\n",
       "      <td>0.04</td>\n",
       "      <td>1.38</td>\n",
       "      <td>0.78</td>\n",
       "      <td>0.131</td>\n",
       "    </tr>\n",
       "  </tbody>\n",
       "</table>\n",
       "</div>"
      ],
      "text/plain": [
       "         Country  Total_Cases2021  Total_deaths_2021  Population  \\\n",
       "0  United States         45876564             475059   331501080   \n",
       "1         Brazil         14039442             424262   213196304   \n",
       "2          India          9818294             332492  1396387127   \n",
       "3         Russia         11170110             246400   144073139   \n",
       "4         Mexico          3254744             173621   125998302   \n",
       "\n",
       "   %Infection_of_Total_Population  Averager_yearly_temperature  \\\n",
       "0                          0.0610                        10.00   \n",
       "1                          0.0360                        25.93   \n",
       "2                          0.0074                        24.80   \n",
       "3                          0.0217                        -1.72   \n",
       "4                          0.0113                        22.08   \n",
       "\n",
       "   Airline_Passengers  population_density  median_age  aged_65_older%  \\\n",
       "0           369500000               35.61        38.3            0.15   \n",
       "1            45410000               25.04        33.5            0.09   \n",
       "2            68960000              450.42        28.2            0.06   \n",
       "3            62450000                8.82        39.6            0.14   \n",
       "4            34130000               66.44        29.3            0.07   \n",
       "\n",
       "   aged_70_older%  hospital_beds_per_thousand  human_development_index  \\\n",
       "0            0.10                        2.77                     0.93   \n",
       "1            0.05                        2.20                     0.77   \n",
       "2            0.03                        0.53                     0.65   \n",
       "3            0.09                        8.05                     0.82   \n",
       "4            0.04                        1.38                     0.78   \n",
       "\n",
       "   Tobacco use (% of adults)  \n",
       "0                      0.230  \n",
       "1                      0.128  \n",
       "2                      0.270  \n",
       "3                      0.268  \n",
       "4                      0.131  "
      ]
     },
     "execution_count": 56,
     "metadata": {},
     "output_type": "execute_result"
    }
   ],
   "source": [
    "df_to_predict = pd.read_csv('To Predict2.csv')\n",
    "df_to_predict.head()"
   ]
  },
  {
   "cell_type": "code",
   "execution_count": 57,
   "id": "9eb1a814",
   "metadata": {},
   "outputs": [
    {
     "data": {
      "text/html": [
       "<div>\n",
       "<style scoped>\n",
       "    .dataframe tbody tr th:only-of-type {\n",
       "        vertical-align: middle;\n",
       "    }\n",
       "\n",
       "    .dataframe tbody tr th {\n",
       "        vertical-align: top;\n",
       "    }\n",
       "\n",
       "    .dataframe thead th {\n",
       "        text-align: right;\n",
       "    }\n",
       "</style>\n",
       "<table border=\"1\" class=\"dataframe\">\n",
       "  <thead>\n",
       "    <tr style=\"text-align: right;\">\n",
       "      <th></th>\n",
       "      <th>Total_Cases2021</th>\n",
       "      <th>Total_deaths_2021</th>\n",
       "      <th>Population</th>\n",
       "      <th>%Infection_of_Total_Population</th>\n",
       "      <th>Averager_yearly_temperature</th>\n",
       "      <th>Airline_Passengers</th>\n",
       "      <th>population_density</th>\n",
       "      <th>median_age</th>\n",
       "      <th>aged_65_older%</th>\n",
       "      <th>aged_70_older%</th>\n",
       "      <th>hospital_beds_per_thousand</th>\n",
       "      <th>human_development_index</th>\n",
       "      <th>Tobacco use (% of adults)</th>\n",
       "    </tr>\n",
       "  </thead>\n",
       "  <tbody>\n",
       "    <tr>\n",
       "      <th>0</th>\n",
       "      <td>45876564</td>\n",
       "      <td>475059</td>\n",
       "      <td>331501080</td>\n",
       "      <td>0.0610</td>\n",
       "      <td>10.00</td>\n",
       "      <td>369500000</td>\n",
       "      <td>35.61</td>\n",
       "      <td>38.3</td>\n",
       "      <td>0.15</td>\n",
       "      <td>0.10</td>\n",
       "      <td>2.77</td>\n",
       "      <td>0.93</td>\n",
       "      <td>0.230</td>\n",
       "    </tr>\n",
       "    <tr>\n",
       "      <th>1</th>\n",
       "      <td>14039442</td>\n",
       "      <td>424262</td>\n",
       "      <td>213196304</td>\n",
       "      <td>0.0360</td>\n",
       "      <td>25.93</td>\n",
       "      <td>45410000</td>\n",
       "      <td>25.04</td>\n",
       "      <td>33.5</td>\n",
       "      <td>0.09</td>\n",
       "      <td>0.05</td>\n",
       "      <td>2.20</td>\n",
       "      <td>0.77</td>\n",
       "      <td>0.128</td>\n",
       "    </tr>\n",
       "    <tr>\n",
       "      <th>2</th>\n",
       "      <td>9818294</td>\n",
       "      <td>332492</td>\n",
       "      <td>1396387127</td>\n",
       "      <td>0.0074</td>\n",
       "      <td>24.80</td>\n",
       "      <td>68960000</td>\n",
       "      <td>450.42</td>\n",
       "      <td>28.2</td>\n",
       "      <td>0.06</td>\n",
       "      <td>0.03</td>\n",
       "      <td>0.53</td>\n",
       "      <td>0.65</td>\n",
       "      <td>0.270</td>\n",
       "    </tr>\n",
       "    <tr>\n",
       "      <th>3</th>\n",
       "      <td>11170110</td>\n",
       "      <td>246400</td>\n",
       "      <td>144073139</td>\n",
       "      <td>0.0217</td>\n",
       "      <td>-1.72</td>\n",
       "      <td>62450000</td>\n",
       "      <td>8.82</td>\n",
       "      <td>39.6</td>\n",
       "      <td>0.14</td>\n",
       "      <td>0.09</td>\n",
       "      <td>8.05</td>\n",
       "      <td>0.82</td>\n",
       "      <td>0.268</td>\n",
       "    </tr>\n",
       "    <tr>\n",
       "      <th>4</th>\n",
       "      <td>3254744</td>\n",
       "      <td>173621</td>\n",
       "      <td>125998302</td>\n",
       "      <td>0.0113</td>\n",
       "      <td>22.08</td>\n",
       "      <td>34130000</td>\n",
       "      <td>66.44</td>\n",
       "      <td>29.3</td>\n",
       "      <td>0.07</td>\n",
       "      <td>0.04</td>\n",
       "      <td>1.38</td>\n",
       "      <td>0.78</td>\n",
       "      <td>0.131</td>\n",
       "    </tr>\n",
       "  </tbody>\n",
       "</table>\n",
       "</div>"
      ],
      "text/plain": [
       "   Total_Cases2021  Total_deaths_2021  Population  \\\n",
       "0         45876564             475059   331501080   \n",
       "1         14039442             424262   213196304   \n",
       "2          9818294             332492  1396387127   \n",
       "3         11170110             246400   144073139   \n",
       "4          3254744             173621   125998302   \n",
       "\n",
       "   %Infection_of_Total_Population  Averager_yearly_temperature  \\\n",
       "0                          0.0610                        10.00   \n",
       "1                          0.0360                        25.93   \n",
       "2                          0.0074                        24.80   \n",
       "3                          0.0217                        -1.72   \n",
       "4                          0.0113                        22.08   \n",
       "\n",
       "   Airline_Passengers  population_density  median_age  aged_65_older%  \\\n",
       "0           369500000               35.61        38.3            0.15   \n",
       "1            45410000               25.04        33.5            0.09   \n",
       "2            68960000              450.42        28.2            0.06   \n",
       "3            62450000                8.82        39.6            0.14   \n",
       "4            34130000               66.44        29.3            0.07   \n",
       "\n",
       "   aged_70_older%  hospital_beds_per_thousand  human_development_index  \\\n",
       "0            0.10                        2.77                     0.93   \n",
       "1            0.05                        2.20                     0.77   \n",
       "2            0.03                        0.53                     0.65   \n",
       "3            0.09                        8.05                     0.82   \n",
       "4            0.04                        1.38                     0.78   \n",
       "\n",
       "   Tobacco use (% of adults)  \n",
       "0                      0.230  \n",
       "1                      0.128  \n",
       "2                      0.270  \n",
       "3                      0.268  \n",
       "4                      0.131  "
      ]
     },
     "execution_count": 57,
     "metadata": {},
     "output_type": "execute_result"
    }
   ],
   "source": [
    "df_to_predict_model = df_to_predict.copy()\n",
    "df_to_predict_model = df_to_predict.drop(['Country'], axis = 1)\n",
    "df_to_predict_model.head()"
   ]
  },
  {
   "cell_type": "markdown",
   "id": "1b9ea184",
   "metadata": {},
   "source": [
    "### Feature Scaling"
   ]
  },
  {
   "cell_type": "code",
   "execution_count": 58,
   "id": "dd28746f",
   "metadata": {},
   "outputs": [
    {
     "name": "stderr",
     "output_type": "stream",
     "text": [
      "C:\\Users\\dell\\anaconda3\\lib\\site-packages\\sklearn\\base.py:493: FutureWarning: The feature names should match those that were passed during fit. Starting version 1.2, an error will be raised.\n",
      "Feature names unseen at fit time:\n",
      "- Total_Cases2021\n",
      "- Total_deaths_2021\n",
      "Feature names seen at fit time, yet now missing:\n",
      "- Total_Cases2020\n",
      "- Total_deaths_2020\n",
      "\n",
      "  warnings.warn(message, FutureWarning)\n"
     ]
    }
   ],
   "source": [
    "X_test2 = scaler.transform(df_to_predict_model)"
   ]
  },
  {
   "cell_type": "markdown",
   "id": "56dba520",
   "metadata": {},
   "source": [
    "### The model Prediction for the 5 Countries"
   ]
  },
  {
   "cell_type": "code",
   "execution_count": 59,
   "id": "54d76d67",
   "metadata": {},
   "outputs": [
    {
     "data": {
      "text/html": [
       "<div>\n",
       "<style scoped>\n",
       "    .dataframe tbody tr th:only-of-type {\n",
       "        vertical-align: middle;\n",
       "    }\n",
       "\n",
       "    .dataframe tbody tr th {\n",
       "        vertical-align: top;\n",
       "    }\n",
       "\n",
       "    .dataframe thead th {\n",
       "        text-align: right;\n",
       "    }\n",
       "</style>\n",
       "<table border=\"1\" class=\"dataframe\">\n",
       "  <thead>\n",
       "    <tr style=\"text-align: right;\">\n",
       "      <th></th>\n",
       "      <th>0</th>\n",
       "    </tr>\n",
       "  </thead>\n",
       "  <tbody>\n",
       "    <tr>\n",
       "      <th>0</th>\n",
       "      <td>475059.0</td>\n",
       "    </tr>\n",
       "    <tr>\n",
       "      <th>1</th>\n",
       "      <td>424262.0</td>\n",
       "    </tr>\n",
       "    <tr>\n",
       "      <th>2</th>\n",
       "      <td>424262.0</td>\n",
       "    </tr>\n",
       "    <tr>\n",
       "      <th>3</th>\n",
       "      <td>424262.0</td>\n",
       "    </tr>\n",
       "    <tr>\n",
       "      <th>4</th>\n",
       "      <td>173621.0</td>\n",
       "    </tr>\n",
       "  </tbody>\n",
       "</table>\n",
       "</div>"
      ],
      "text/plain": [
       "          0\n",
       "0  475059.0\n",
       "1  424262.0\n",
       "2  424262.0\n",
       "3  424262.0\n",
       "4  173621.0"
      ]
     },
     "execution_count": 59,
     "metadata": {},
     "output_type": "execute_result"
    }
   ],
   "source": [
    "deaths2022 = round(pd.Series(tree.predict(X_test2)),0)\n",
    "deaths2022_df = deaths2022.to_frame()\n",
    "deaths2022_df.head()"
   ]
  },
  {
   "cell_type": "code",
   "execution_count": 60,
   "id": "20f48d93",
   "metadata": {},
   "outputs": [],
   "source": [
    "df_to_predict_to_merge = df_to_predict['Country']"
   ]
  },
  {
   "cell_type": "code",
   "execution_count": 61,
   "id": "6cd7934e",
   "metadata": {},
   "outputs": [
    {
     "data": {
      "text/html": [
       "<div>\n",
       "<style scoped>\n",
       "    .dataframe tbody tr th:only-of-type {\n",
       "        vertical-align: middle;\n",
       "    }\n",
       "\n",
       "    .dataframe tbody tr th {\n",
       "        vertical-align: top;\n",
       "    }\n",
       "\n",
       "    .dataframe thead th {\n",
       "        text-align: right;\n",
       "    }\n",
       "</style>\n",
       "<table border=\"1\" class=\"dataframe\">\n",
       "  <thead>\n",
       "    <tr style=\"text-align: right;\">\n",
       "      <th></th>\n",
       "      <th>Total_deaths2022_Predicted</th>\n",
       "      <th>Country</th>\n",
       "    </tr>\n",
       "  </thead>\n",
       "  <tbody>\n",
       "    <tr>\n",
       "      <th>0</th>\n",
       "      <td>475059.0</td>\n",
       "      <td>United States</td>\n",
       "    </tr>\n",
       "    <tr>\n",
       "      <th>1</th>\n",
       "      <td>424262.0</td>\n",
       "      <td>Brazil</td>\n",
       "    </tr>\n",
       "    <tr>\n",
       "      <th>2</th>\n",
       "      <td>424262.0</td>\n",
       "      <td>India</td>\n",
       "    </tr>\n",
       "    <tr>\n",
       "      <th>3</th>\n",
       "      <td>424262.0</td>\n",
       "      <td>Russia</td>\n",
       "    </tr>\n",
       "    <tr>\n",
       "      <th>4</th>\n",
       "      <td>173621.0</td>\n",
       "      <td>Mexico</td>\n",
       "    </tr>\n",
       "    <tr>\n",
       "      <th>5</th>\n",
       "      <td>109620.0</td>\n",
       "      <td>Peru</td>\n",
       "    </tr>\n",
       "    <tr>\n",
       "      <th>6</th>\n",
       "      <td>424262.0</td>\n",
       "      <td>United Kingdom</td>\n",
       "    </tr>\n",
       "    <tr>\n",
       "      <th>7</th>\n",
       "      <td>173621.0</td>\n",
       "      <td>Indonesia</td>\n",
       "    </tr>\n",
       "    <tr>\n",
       "      <th>8</th>\n",
       "      <td>424262.0</td>\n",
       "      <td>Italy</td>\n",
       "    </tr>\n",
       "    <tr>\n",
       "      <th>9</th>\n",
       "      <td>76383.0</td>\n",
       "      <td>Iran</td>\n",
       "    </tr>\n",
       "  </tbody>\n",
       "</table>\n",
       "</div>"
      ],
      "text/plain": [
       "   Total_deaths2022_Predicted         Country\n",
       "0                    475059.0   United States\n",
       "1                    424262.0          Brazil\n",
       "2                    424262.0           India\n",
       "3                    424262.0          Russia\n",
       "4                    173621.0          Mexico\n",
       "5                    109620.0            Peru\n",
       "6                    424262.0  United Kingdom\n",
       "7                    173621.0       Indonesia\n",
       "8                    424262.0           Italy\n",
       "9                     76383.0            Iran"
      ]
     },
     "execution_count": 61,
     "metadata": {},
     "output_type": "execute_result"
    }
   ],
   "source": [
    "country_deaths = deaths2022_df.join(df_to_predict_to_merge)\n",
    "country_deaths.rename(columns = {0:'Total_deaths2022_Predicted'}, inplace = True)\n",
    "country_deaths.head(10)"
   ]
  }
 ],
 "metadata": {
  "kernelspec": {
   "display_name": "Python 3 (ipykernel)",
   "language": "python",
   "name": "python3"
  },
  "language_info": {
   "codemirror_mode": {
    "name": "ipython",
    "version": 3
   },
   "file_extension": ".py",
   "mimetype": "text/x-python",
   "name": "python",
   "nbconvert_exporter": "python",
   "pygments_lexer": "ipython3",
   "version": "3.9.12"
  }
 },
 "nbformat": 4,
 "nbformat_minor": 5
}
